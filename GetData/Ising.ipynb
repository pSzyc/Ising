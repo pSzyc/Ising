{
 "cells": [
  {
   "cell_type": "code",
   "execution_count": 8,
   "metadata": {},
   "outputs": [],
   "source": [
    "import numpy as np\n",
    "import matplotlib.pyplot as plt\n",
    "from macro import calcEnergy, calcMag\n",
    "import os\n",
    "from math import ceil"
   ]
  },
  {
   "cell_type": "code",
   "execution_count": 19,
   "metadata": {},
   "outputs": [],
   "source": [
    "def vizualize_simulations(dir_path):\n",
    "    for dir, _, files in os.walk(dir_path):\n",
    "        files = list(filter(lambda x: x.endswith(\".npy\"), files))\n",
    "        cols = 5\n",
    "        rows = ceil(len(files) / cols)\n",
    "        plt.figure(figsize=(4* cols, 4 * rows)) \n",
    "        for i, file in enumerate(files):\n",
    "            ax = plt.subplot(rows, cols, i + 1)\n",
    "            data = np.load(os.path.join(dir, file))\n",
    "            ax.set_title(f\"Energy {calcEnergy(data)}\\nMagnetization {calcMag(data)}\")\n",
    "            plt.imshow(data)"
   ]
  },
  {
   "cell_type": "code",
   "execution_count": null,
   "metadata": {},
   "outputs": [],
   "source": [
    "vizualize_simulations(\"Rust/Data/\")"
   ]
  },
  {
   "cell_type": "code",
   "execution_count": null,
   "metadata": {},
   "outputs": [],
   "source": []
  }
 ],
 "metadata": {
  "kernelspec": {
   "display_name": "Python 3",
   "language": "python",
   "name": "python3"
  },
  "language_info": {
   "codemirror_mode": {
    "name": "ipython",
    "version": 3
   },
   "file_extension": ".py",
   "mimetype": "text/x-python",
   "name": "python",
   "nbconvert_exporter": "python",
   "pygments_lexer": "ipython3",
   "version": "3.11.4"
  },
  "orig_nbformat": 4
 },
 "nbformat": 4,
 "nbformat_minor": 2
}
