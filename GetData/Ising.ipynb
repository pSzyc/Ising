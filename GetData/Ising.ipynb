{
 "cells": [
  {
   "cell_type": "code",
   "execution_count": null,
   "metadata": {},
   "outputs": [],
   "source": [
    "import numpy as np\n",
    "import pandas as pd\n",
    "import matplotlib.pyplot as plt\n",
    "import seaborn as sns\n",
    "from macro import get_neighbour_sum_matrix_conv, calcEnergy, calcMag\n",
    "import csv\n",
    "from pathlib import Path"
   ]
  },
  {
   "cell_type": "markdown",
   "metadata": {},
   "source": [
    "# Simulation of Ising Model on 2D lattice"
   ]
  },
  {
   "cell_type": "markdown",
   "metadata": {},
   "source": [
    "This notebook presents the data generated using the Monte Carlo method.<br>\n",
    "\n",
    " <strong>In each simulation</strong>:\n",
    " \n",
    " - A 64x64 lattice was initialzied with random spin configurations.\n",
    " - Then, 500 iterations were performed of following alghorythm:<br>\n",
    " a) Lattice indices indices were placed in random order<br>\n",
    " b) For each spin in the list of indices current energy of the spin and it's fliped version were calculated<br>\n",
    " b) It was decided based on the resulting energy difference $\\Delta E$ whenever to filp the spin or not: <br>\n",
    "    if $\\Delta E$ < 0 then new spin value was saved<br>\n",
    "    if $\\Delta E$ > 0 then new spin value had probability of $e^{-(\\Delta E)/T}$ of being saved<br>\n",
    " - The final spin configurations, as well as energy and magnetization for each iteration step, were saved."
   ]
  },
  {
   "cell_type": "markdown",
   "metadata": {},
   "source": [
    "# Energy and magnetization time series\n",
    "\n",
    "Energy and magnetization were saved after each iteration step. This time series like data was generated and plotted along with final spin configuration"
   ]
  },
  {
   "cell_type": "code",
   "execution_count": null,
   "metadata": {},
   "outputs": [],
   "source": [
    "def time_series(folder):\n",
    "    try:\n",
    "        folder_path = Path(folder)\n",
    "        reader = csv.DictReader(open(folder_path / \"parameters.csv\"))\n",
    "        par_dict = next(reader) \n",
    "    except:\n",
    "        raise ValueError(\"Invalid folder provided\")\n",
    "\n",
    "    n_rows = int(par_dict['Simulatiton Number'])\n",
    "\n",
    "    fig = plt.figure(constrained_layout=True, figsize=(20, 20))\n",
    "    fig.suptitle(f\"Temperature: {par_dict['Temperature']} External Field: {par_dict['Magnetic Field']}\", fontsize=18)\n",
    "\n",
    "    subfigs = fig.subfigures(nrows=n_rows, ncols=1)\n",
    "\n",
    "    for index, subfig in enumerate(subfigs):\n",
    "        subfig.suptitle(f'Simulation number: {index}')\n",
    "        data = np.load(folder_path / f\"output{index+1}\" / \"final.npy\")\n",
    "\n",
    "        axs = subfig.subplots(nrows=1, ncols=3)\n",
    "\n",
    "        axs[0].imshow(data)\n",
    "        axs[0].set_title(f'Maze')\n",
    "\n",
    "        columns = ['iter','energy','mag']\n",
    "        df = pd.read_csv(folder_path / f\"output{index+1}\" / \"data.csv\", header=None, names=columns).set_index('iter')\n",
    "\n",
    "        axs[1].plot(df.energy)\n",
    "        axs[1].set_title(f'Energy')\n",
    "\n",
    "        axs[2].plot(df.mag)\n",
    "        axs[2].set_title(f'Magnetization')"
   ]
  },
  {
   "cell_type": "markdown",
   "metadata": {},
   "source": [
    "## Low Temperature\n",
    "Low equilibrium energy, long time of relaxation"
   ]
  },
  {
   "cell_type": "code",
   "execution_count": null,
   "metadata": {},
   "outputs": [],
   "source": [
    "time_series(\"Rust/Demo/Low\")"
   ]
  },
  {
   "cell_type": "markdown",
   "metadata": {},
   "source": [
    "## High temperature\n",
    "Simulation starts not too far from the equilibrium and oscilates vividly"
   ]
  },
  {
   "cell_type": "code",
   "execution_count": null,
   "metadata": {},
   "outputs": [],
   "source": [
    "time_series(\"Rust/Demo/High\")"
   ]
  },
  {
   "cell_type": "markdown",
   "metadata": {},
   "source": [
    "## Around critical temperature\n",
    "For inifinite 2d lattice $T_{crit} \\approx 2.7$"
   ]
  },
  {
   "cell_type": "code",
   "execution_count": null,
   "metadata": {},
   "outputs": [],
   "source": [
    "time_series(\"Rust/Demo/Crit\")"
   ]
  },
  {
   "cell_type": "markdown",
   "metadata": {},
   "source": [
    "## Positive Magnetic Field"
   ]
  },
  {
   "cell_type": "code",
   "execution_count": null,
   "metadata": {},
   "outputs": [],
   "source": [
    "time_series(\"Rust/Demo/MagPositive/\")"
   ]
  },
  {
   "cell_type": "markdown",
   "metadata": {},
   "source": [
    "## Negative Magnetic Field"
   ]
  },
  {
   "cell_type": "code",
   "execution_count": null,
   "metadata": {},
   "outputs": [],
   "source": [
    "time_series(\"Rust/Demo/MagNegative/\")"
   ]
  },
  {
   "cell_type": "markdown",
   "metadata": {},
   "source": [
    "# New Simulate Function"
   ]
  },
  {
   "cell_type": "code",
   "execution_count": null,
   "metadata": {},
   "outputs": [],
   "source": [
    "def iterate(m, T, H):\n",
    "    m_sum = get_neighbour_sum_matrix_conv(m)\n",
    "    e_diff = - (m_sum + H) * ( -2 * m)\n",
    "    spin_flip_mask = np.random.rand(*m.shape)<np.where(e_diff>0,np.exp(-e_diff/T), 1.0) \n",
    "    m = m + m*(-2)*spin_flip_mask\n",
    "    return m\n",
    "\n",
    "def get_maze(N = 64):\n",
    "    m = 2 * np.random.randint(0,2,(N,N)) -1\n",
    "    return m\n",
    "\n",
    "def simulate(n, T, H):\n",
    "    m = get_maze()\n",
    "    energies = []\n",
    "    magnetizations = []\n",
    "    for _ in range(n):\n",
    "        m = iterate(m, T, H)\n",
    "        energies.append(calcEnergy(m))\n",
    "        magnetizations.append(calcMag(m))\n",
    "    return energies, magnetizations, m\n"
   ]
  },
  {
   "cell_type": "code",
   "execution_count": null,
   "metadata": {},
   "outputs": [],
   "source": [
    "def simulate_with_plot(num, steps = 300, h = 0):\n",
    "    n_rows = num\n",
    "\n",
    "    fig = plt.figure(constrained_layout=True, figsize=(20, 20))\n",
    "    subfigs = fig.subfigures(nrows=n_rows, ncols=1)\n",
    "\n",
    "    for index, subfig in enumerate(subfigs):\n",
    "        random_temperature = np.random.rand() * 9 + 1\n",
    "        energies, magnetization, mat = simulate(steps, random_temperature, h)\n",
    "        subfig.suptitle(f'Nr: {index} Temperature: {random_temperature:.2f}')\n",
    "\n",
    "        axs = subfig.subplots(nrows=1, ncols=3)\n",
    "\n",
    "        axs[0].imshow(mat)\n",
    "        axs[0].set_title(f'Maze')\n",
    "\n",
    "        axs[1].plot(energies)\n",
    "        axs[1].set_title(f'Energy')\n",
    "\n",
    "        axs[2].plot(magnetization)\n",
    "        axs[2].set_title(f'Magnetization')"
   ]
  },
  {
   "cell_type": "code",
   "execution_count": null,
   "metadata": {},
   "outputs": [],
   "source": [
    "simulate_with_plot(5)"
   ]
  },
  {
   "cell_type": "markdown",
   "metadata": {},
   "source": [
    "# Wolff"
   ]
  },
  {
   "cell_type": "code",
   "execution_count": null,
   "metadata": {},
   "outputs": [],
   "source": [
    "def flipCluster(mat,cluster):\n",
    "    # Flip all spins in a cluster. Used for the Wolff algorithm.\n",
    "    \"\"\"\n",
    "    Parameters:\n",
    "        mat: numpy array containing the current spin configuration\n",
    "        cluster: List of spins to be flipped \n",
    "    \"\"\"\n",
    "    for pair in cluster:\n",
    "        i,j=pair\n",
    "        mat[i,j]*=-1\n",
    "        \n",
    "def iterateWolffTri(mat,T,calcE=False):\n",
    "    # Wolff algorithm for a triangular lattice\n",
    "    \"\"\"\n",
    "    Parameters:\n",
    "        mat: numpy array containing the current spin configuration\n",
    "        T: Temperature for the simulation\n",
    "        calcE: Flag to calculate and return the average spin energy for the final configuration.\n",
    "    \"\"\"\n",
    "    L,_ = mat.shape\n",
    "    tracker = np.zeros((L,L))\n",
    "    \n",
    "    i,j = np.random.randint(0,L,size=2)\n",
    "    spin = mat[i,j]\n",
    "    stack = [(i,j)]\n",
    "    tracker[i,j]=1\n",
    "    \n",
    "    cluster = [(i,j)]\n",
    "    while len(stack)>0:\n",
    "        i,j = stack.pop()\n",
    "        neighbors = [(i,(j+1)%L),(i,(j-1)%L),((i+1)%L,j),((i-1)%L,j),((i+1)%L,(j+1)%L),((i-1)%L,(j-1)%L)]\n",
    "        for pair in neighbors:\n",
    "            l,m = pair\n",
    "            if (mat[l,m]==spin and tracker[l,m]==0 and np.random.random()< (1.0-np.exp(-2.0/T))):\n",
    "                cluster.append((l,m))\n",
    "                stack.append((l,m))\n",
    "                tracker[l,m]=1\n",
    "            \n",
    "    flipCluster(mat,cluster)\n",
    "            \n",
    "    if calcE:\n",
    "        avgE=0.0\n",
    "        for i in range(L):\n",
    "            for j in range(L):\n",
    "                spin_final = mat[i,j]\n",
    "                neighbor_sum = mat[(i+1)%L,j]+mat[(i-1)%L,j]+mat[i,(j+1)%L]+mat[i,(j-1)%L]+mat[(i+1)%L,(j+1)%L]+mat[(i-1)%L,(j-1)%L]\n",
    "                E_final = -spin_final*neighbor_sum\n",
    "                avgE+=float(E_final)\n",
    "    \n",
    "        avgE/=float(L**2)                   \n",
    "        return avgE"
   ]
  },
  {
   "cell_type": "markdown",
   "metadata": {},
   "source": [
    "## Convolutional Layer\n",
    "\n",
    "Test made for convolutional implementation of function which calculates sum of neighbouring cells. "
   ]
  },
  {
   "cell_type": "code",
   "execution_count": null,
   "metadata": {},
   "outputs": [],
   "source": [
    "ones = np.ones((10, 10))\n",
    "results = get_neighbour_sum_matrix_conv(ones)\n",
    "sns.heatmap(results)"
   ]
  },
  {
   "cell_type": "markdown",
   "metadata": {},
   "source": [
    "# Time of the simulation"
   ]
  },
  {
   "cell_type": "code",
   "execution_count": null,
   "metadata": {},
   "outputs": [],
   "source": [
    "import os\n",
    "import random\n",
    "\n",
    "simulations  = []\n",
    "for root, dir, files in os.walk(\"Rust/Demo\"):\n",
    "\n",
    "    if 'parameters.csv' in files:\n",
    "        reader = csv.DictReader(open( root + \"/parameters.csv\" ))\n",
    "        par_dict = next(reader)\n",
    "        temp = float(par_dict['Temperature']) \n",
    "        simulations.append((f\"{root}/{random.choice(dir)}\", temp))\n",
    "\n",
    "n_cols = 2\n",
    "n_rows = len(simulations)\n",
    "fig, axes = plt.subplots(nrows=n_rows, ncols=n_cols, figsize = (9, n_rows * 2))\n",
    "\n",
    "plot_columns = [\"Energy\", \"Diff Rolling\"]\n",
    "for ax, col in zip(axes[0], plot_columns):\n",
    "    ax.set_title(col)\n",
    "\n",
    "for index, (sim, temp) in enumerate(simulations):\n",
    "    # Statistics\n",
    "    columns = ['iter','energy','mag']\n",
    "    df = pd.read_csv(f\"{sim}/data.csv\", header=None, names=columns).set_index('iter')\n",
    "\n",
    "    # Energy plot\n",
    "    axes[index][0].plot(df.energy)\n",
    "    \n",
    "    # Energy plot\n",
    "    energy_diff = df.energy.diff().rolling(100).mean()\n",
    "    axes[index][1].plot(energy_diff)\n",
    "    oscilating_points = energy_diff[energy_diff.abs() < 2.5 * np.log(1+temp)]\n",
    "    axes[index][1].scatter(oscilating_points.index, oscilating_points, color = 'g')\n",
    "\n",
    "\n"
   ]
  },
  {
   "cell_type": "code",
   "execution_count": null,
   "metadata": {},
   "outputs": [],
   "source": []
  }
 ],
 "metadata": {
  "kernelspec": {
   "display_name": "Python 3",
   "language": "python",
   "name": "python3"
  },
  "language_info": {
   "codemirror_mode": {
    "name": "ipython",
    "version": 3
   },
   "file_extension": ".py",
   "mimetype": "text/x-python",
   "name": "python",
   "nbconvert_exporter": "python",
   "pygments_lexer": "ipython3",
   "version": "3.11.5"
  },
  "orig_nbformat": 4
 },
 "nbformat": 4,
 "nbformat_minor": 2
}
