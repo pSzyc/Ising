{
 "cells": [
  {
   "cell_type": "code",
   "execution_count": 6,
   "metadata": {},
   "outputs": [],
   "source": [
    "import numpy as np\n",
    "import matplotlib.pyplot as plt\n",
    "import os"
   ]
  },
  {
   "cell_type": "code",
   "execution_count": 2,
   "metadata": {},
   "outputs": [],
   "source": [
    "def createArray(L):\n",
    "    mat = np.random.randint(0,2,size=(L,L), dtype=int)\n",
    "    mat[mat==0] = -1 \n",
    "    return mat"
   ]
  },
  {
   "cell_type": "code",
   "execution_count": 16,
   "metadata": {},
   "outputs": [],
   "source": [
    "def iterateTri(mat,T,calcE=False):\n",
    "    # Metropolis algorithm for a triangular lattice\n",
    "    \"\"\"\n",
    "    Parameters:\n",
    "        mat: numpy array containing the current spin configuration\n",
    "        T: Temperature for the simulation\n",
    "        calcE: Flag to calculate and return the average spin energy for the final configuration.\n",
    "    \"\"\"\n",
    "    L,_ = mat.shape\n",
    "      \n",
    "    order1 = np.arange(L)\n",
    "    order2 = np.arange(L)\n",
    "    np.random.shuffle(order1)\n",
    "    np.random.shuffle(order2)\n",
    "    \n",
    "    #updateMat=mat\n",
    "    avgE = 0.0\n",
    "    for i in order1:\n",
    "        for j in order2:\n",
    "            spin_current = mat[i,j]\n",
    "            spin_new = spin_current*(-1)\n",
    "            neighbor_sum = (mat[(i+1)%L,j]+mat[(i-1)%L,j]+mat[i,(j+1)%L]+mat[i,(j-1)%L]+mat[(i+1)%L,(j+1)%L]+mat[(i-1)%L,(j-1)%L])\n",
    "            E_current = -spin_current*neighbor_sum\n",
    "            E_new = -spin_new*neighbor_sum\n",
    "            E_diff = E_new - E_current\n",
    "            if E_diff < 0:\n",
    "                mat[i,j] = spin_new\n",
    "            elif np.random.random()<= np.exp(-float(E_diff)/T):\n",
    "                mat[i,j] = spin_new\n",
    "\n",
    "    if calcE:        \n",
    "        for i in order1:\n",
    "            for j in range(0,L):\n",
    "                spin_final = mat[i,j]\n",
    "                E_final = -spin_final*(mat[i+1,j]+mat[i-1,j]+mat[i,j+1]+mat[i,j-1])\n",
    "                avgE+=float(E_final)\n",
    "    \n",
    "        avgE/=float(L**2)                   \n",
    "        return avgE\n",
    "    "
   ]
  },
  {
   "cell_type": "code",
   "execution_count": 17,
   "metadata": {},
   "outputs": [],
   "source": [
    "def simulateTri(mat,T,steps):\n",
    "    #MC simulation for a triangular lattice, using the Wolff algorithm\n",
    "    for step in range(steps):\n",
    "        iterateTri(mat,T)"
   ]
  },
  {
   "cell_type": "code",
   "execution_count": 18,
   "metadata": {},
   "outputs": [],
   "source": [
    "def generateSamples(T,L,steps,samples,dirPath):\n",
    "    # Generate, label, and save configurations for a square lattice\n",
    "    \"\"\"\n",
    "    Parameters:\n",
    "        T: Temperature\n",
    "        L: Linear lattice size\n",
    "        steps: Number of simulation steps\n",
    "        sample: Number of configuration steps\n",
    "        dirPath: save location\n",
    "    \"\"\"\n",
    "    for i in range(1,samples+1):\n",
    "        mat = createArray(L)\n",
    "        simulateTri(mat,T,steps)\n",
    "        \n",
    "        if T<2.27: # For a square lattice, the critical T is ~2.27\n",
    "            category = \"low\"\n",
    "        else:\n",
    "            category = \"high\"\n",
    "        \n",
    "        path = os.path.join(dirPath,category)\n",
    "        os.makedirs(path, exist_ok=True)\n",
    "        np.save(os.path.join(path,f\"{category}_{T:.2f}_{i}_\"),mat)"
   ]
  },
  {
   "cell_type": "code",
   "execution_count": 19,
   "metadata": {},
   "outputs": [
    {
     "data": {
      "text/plain": [
       "<matplotlib.image.AxesImage at 0x7f1c3d233b90>"
      ]
     },
     "execution_count": 19,
     "metadata": {},
     "output_type": "execute_result"
    },
    {
     "data": {
      "image/png": "[encoded data removed]",
      "text/plain": [
       "<Figure size 640x480 with 1 Axes>"
      ]
     },
     "metadata": {},
     "output_type": "display_data"
    }
   ],
   "source": [
    "# Initial configuration of 50x50 Ising lattice\n",
    "mat=createArray(50)\n",
    "plt.imshow(mat)"
   ]
  },
  {
   "cell_type": "code",
   "execution_count": 20,
   "metadata": {},
   "outputs": [
    {
     "data": {
      "text/plain": [
       "<matplotlib.image.AxesImage at 0x7f1c3d15fcd0>"
      ]
     },
     "execution_count": 20,
     "metadata": {},
     "output_type": "execute_result"
    },
    {
     "data": {
      "image/png": "[encoded data removed]",
      "text/plain": [
       "<Figure size 640x480 with 1 Axes>"
      ]
     },
     "metadata": {},
     "output_type": "display_data"
    }
   ],
   "source": [
    "simulateTri(mat,2.3,3000)\n",
    "plt.imshow(mat)"
   ]
  },
  {
   "cell_type": "code",
   "execution_count": 21,
   "metadata": {},
   "outputs": [
    {
     "data": {
      "text/plain": [
       "<matplotlib.image.AxesImage at 0x7f1c3d2dea10>"
      ]
     },
     "execution_count": 21,
     "metadata": {},
     "output_type": "execute_result"
    },
    {
     "data": {
      "image/png": "[encoded data removed]",
      "text/plain": [
       "<Figure size 640x480 with 1 Axes>"
      ]
     },
     "metadata": {},
     "output_type": "display_data"
    }
   ],
   "source": [
    "mat=createArray(50)\n",
    "simulateTrif(mat,9.3,3000)\n",
    "plt.imshow(mat)"
   ]
  },
  {
   "cell_type": "code",
   "execution_count": null,
   "metadata": {},
   "outputs": [],
   "source": [
    "def generateSamplesTri(T,L,steps,samples,dirPath):\n",
    "    # Generate, label, and save configurations for a triangular lattice\n",
    "    for i in range(1,samples+1):\n",
    "        mat = createArray(L)\n",
    "        simulateTri(mat,T,steps)\n",
    "        \n",
    "        if T<3.65: # Critical T for a triangular lattice\n",
    "            category = \"low\"\n",
    "        else:\n",
    "            category = \"high\"\n",
    "        \n",
    "        path = os.path.join(dirPath,category)\n",
    "        os.makedirs(path, exist_ok=True)\n",
    "        np.save(os.path.join(path,f\"{category}_{T:.2f}_{i}_\"),mat)"
   ]
  },
  {
   "cell_type": "code",
   "execution_count": null,
   "metadata": {},
   "outputs": [],
   "source": []
  }
 ],
 "metadata": {
  "kernelspec": {
   "display_name": "Python 3",
   "language": "python",
   "name": "python3"
  },
  "language_info": {
   "codemirror_mode": {
    "name": "ipython",
    "version": 3
   },
   "file_extension": ".py",
   "mimetype": "text/x-python",
   "name": "python",
   "nbconvert_exporter": "python",
   "pygments_lexer": "ipython3",
   "version": "3.11.4"
  },
  "orig_nbformat": 4
 },
 "nbformat": 4,
 "nbformat_minor": 2
}
