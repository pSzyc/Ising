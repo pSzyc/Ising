{
 "cells": [
  {
   "cell_type": "markdown",
   "metadata": {},
   "source": [
    "## Ising Model Data Generation\n",
    "Here, I generate training, validation, and test set data by performing Monte Carlo simulations of the 2-D Ising model at different temperatures and saving the output. \n",
    "\n",
    "Each sample configuration is saved as a ```.npy``` (binary numpy file), and consists of an $L$x$L$ matrix with entries taking the values of {-1,1}, indicating spin-up and spin-down, respectively."
   ]
  },
  {
   "cell_type": "code",
   "execution_count": 4,
   "metadata": {},
   "outputs": [],
   "source": [
    "import numpy as np\n",
    "import matplotlib.pyplot as plt\n",
    "import os\n",
    "from tqdm import tqdm\n",
    "import multiprocessing as mp\n",
    "from itertools import repeat\n",
    "%matplotlib inline"
   ]
  },
  {
   "cell_type": "markdown",
   "metadata": {},
   "source": [
    "Set the save locations for each of the data sets."
   ]
  },
  {
   "cell_type": "code",
   "execution_count": 5,
   "metadata": {},
   "outputs": [],
   "source": [
    "train_path = '../../data/Ising/train/'\n",
    "#test_path = '../../data/Ising/test/'\n",
    "valid_path = '../../data/Ising/valid/'"
   ]
  },
  {
   "cell_type": "markdown",
   "metadata": {},
   "source": [
    "## Simulation Functions\n",
    "Below I define functions for the Monte Carlo simulations. Different algorithms can be used for simulating the Ising model. I include funtions based off the Metropolis and Wolff algorithms. I ultimately use the Wolff algoritm to produce the training data. All algorithms assume periodic boundary conditions."
   ]
  },
  {
   "cell_type": "markdown",
   "metadata": {},
   "source": [
    "First, this function will create and randomly fill an $L$x$L$ array with 1's and -1's. This is equivalent to creating a configuration for T=infinity, there will be no correlations between the spins of the particles."
   ]
  },
  {
   "cell_type": "code",
   "execution_count": 6,
   "metadata": {},
   "outputs": [],
   "source": [
    "def createArray(L):\n",
    "    mat = np.random.randint(0,2,size=(L,L), dtype=int)\n",
    "    mat[mat==0] = -1 \n",
    "    return mat"
   ]
  },
  {
   "cell_type": "markdown",
   "metadata": {},
   "source": [
    "### Metropolis algorithm\n",
    "\n",
    "For the Metropolis algorithm, individual spins are randomly picked. If flipping the spin leads to a lower energy, the spin automatically flips. If flipping the spin would lead to a higher energy, there is a probabilty the spin will flip that is dependent on the temperature."
   ]
  },
  {
   "cell_type": "code",
   "execution_count": 7,
   "metadata": {},
   "outputs": [],
   "source": [
    "def iterate(mat,T,calcE=False):\n",
    "    # Metropolis algorithm for a square lattice\n",
    "    \"\"\"\n",
    "    Parameters:\n",
    "        mat: numpy array containing the current spin configuration\n",
    "        T: Temperature for the simulation\n",
    "        calcE: Flag to calculate and return the average spin energy for the final configuration.\n",
    "    \"\"\"\n",
    "    L,_ = mat.shape\n",
    "      \n",
    "    order1 = np.arange(L)\n",
    "    order2 = np.arange(L)\n",
    "    np.random.shuffle(order1)\n",
    "    np.random.shuffle(order2)\n",
    "\n",
    "    for i in order1:\n",
    "        for j in order2:\n",
    "            spin_current = mat[i,j]\n",
    "            spin_new = spin_current*(-1)\n",
    "            neighbor_sum = mat[(i+1)%L,j]+mat[(i-1)%L,j]+mat[i,(j+1)%L]+mat[i,(j-1)%L]\n",
    "            E_current = -spin_current*neighbor_sum\n",
    "            E_new = -spin_new*neighbor_sum\n",
    "            E_diff = E_new - E_current\n",
    "            if E_diff < 0:\n",
    "                mat[i,j] = spin_new\n",
    "            elif np.random.random()<= np.exp(-float(E_diff)/T):\n",
    "                mat[i,j] = spin_new\n",
    "    if calcE:\n",
    "        avgE = 0.0\n",
    "        for i in order1:\n",
    "            for j in range(0,L):\n",
    "                spin_final = mat[i,j]\n",
    "                E_final = -spin_final*neighbor_sum\n",
    "                avgE+=float(E_final)\n",
    "    \n",
    "        avgE/=float(L**2)                   \n",
    "        return avgE"
   ]
  },
  {
   "cell_type": "markdown",
   "metadata": {},
   "source": [
    "This function employs the metropolis algorithm for the Ising model on a triangular lattice. On a square lattice, each spin has 4 nearest neighbors. On a triangular lattice, each spin has 6 nearest neighbers. The critical temperature is different for the two configurations. "
   ]
  },
  {
   "cell_type": "code",
   "execution_count": 8,
   "metadata": {},
   "outputs": [],
   "source": [
    "def iterateTri(mat,T,calcE):\n",
    "    # Metropolis algorithm for a triangular lattice\n",
    "    \"\"\"\n",
    "    Parameters:\n",
    "        mat: numpy array containing the current spin configuration\n",
    "        T: Temperature for the simulation\n",
    "        calcE: Flag to calculate and return the average spin energy for the final configuration.\n",
    "    \"\"\"\n",
    "    L,_ = mat.shape\n",
    "      \n",
    "    order1 = np.arange(L)\n",
    "    order2 = np.arange(L)\n",
    "    np.random.shuffle(order1)\n",
    "    np.random.shuffle(order2)\n",
    "    \n",
    "    #updateMat=mat\n",
    "    avgE = 0.0\n",
    "    for i in order1:\n",
    "        for j in order2:\n",
    "            spin_current = mat[i,j]\n",
    "            spin_new = spin_current*(-1)\n",
    "            neighbor_sum = (mat[(i+1)%L,j]+mat[(i-1)%L,j]+mat[i,(j+1)%L]+mat[i,(j-1)%L]+mat[(i+1)%L,(j+1)%L]+mat[(i-1)%L,(j-1)%L])\n",
    "            E_current = -spin_current*neighbor_sum\n",
    "            E_new = -spin_new*neighbor_sum\n",
    "            E_diff = E_new - E_current\n",
    "            if E_diff < 0:\n",
    "                mat[i,j] = spin_new\n",
    "            elif np.random.random()<= np.exp(-float(E_diff)/T):\n",
    "                mat[i,j] = spin_new\n",
    "\n",
    "    if calcE:        \n",
    "        for i in order1:\n",
    "            for j in range(0,L):\n",
    "                spin_final = mat[i,j]\n",
    "                E_final = -spin_final*(mat[i+1,j]+mat[i-1,j]+mat[i,j+1]+mat[i,j-1])\n",
    "                avgE+=float(E_final)\n",
    "    \n",
    "        avgE/=float(N**2)                   \n",
    "        return avgE\n",
    "    "
   ]
  },
  {
   "cell_type": "markdown",
   "metadata": {},
   "source": [
    "### Wolff algorithm\n",
    "\n",
    "Instead of individual spins being flipped one at a time, clusters of spins are formed and fliped all at once. This helps prevent the simulation from getting stuck in a meta-stable state, especially near the critical temperature.\n"
   ]
  },
  {
   "cell_type": "code",
   "execution_count": 9,
   "metadata": {},
   "outputs": [],
   "source": [
    "def flipCluster(mat,cluster):\n",
    "    # Flip all spins in a cluster. Used for the Wolff algorithm.\n",
    "    \"\"\"\n",
    "    Parameters:\n",
    "        mat: numpy array containing the current spin configuration\n",
    "        cluster: List of spins to be flipped \n",
    "    \"\"\"\n",
    "    for pair in cluster:\n",
    "        i,j=pair\n",
    "        mat[i,j]*=-1"
   ]
  },
  {
   "cell_type": "code",
   "execution_count": 13,
   "metadata": {},
   "outputs": [],
   "source": [
    "def iterateWolff(mat,T,calcE=False):\n",
    "    # Wolff algorithm for a square lattice\n",
    "    \"\"\"\n",
    "    Parameters:\n",
    "        mat: numpy array containing the current spin configuration\n",
    "        T: Temperature for the simulation\n",
    "        calcE: Flag to calculate and return the average spin energy for the final configuration.\n",
    "    \"\"\"\n",
    "    L,_ = mat.shape\n",
    "    tracker = np.zeros((L,L)) # Keep track of which spins have already be added to the cluster.\n",
    "    \n",
    "    i,j = np.random.randint(0,L,size=2)\n",
    "    spin = mat[i,j]\n",
    "    stack = [(i,j)]\n",
    "    tracker[i,j]=1\n",
    "    \n",
    "    cluster = [(i,j)]\n",
    "    while len(stack)>0:\n",
    "        i,j = stack.pop()\n",
    "        neighbors = [(i,(j+1)%L),(i,(j-1)%L),((i+1)%L,j),((i-1)%L,j)]\n",
    "        for pair in neighbors:\n",
    "            l,m = pair\n",
    "            if (mat[l,m]==spin and tracker[l,m]==0 and np.random.random()< (1.0-np.exp(-2.0/T))):\n",
    "                cluster.append((l,m))\n",
    "                stack.append((l,m))\n",
    "                tracker[l,m]=1\n",
    "            \n",
    "    flipCluster(mat,cluster)\n",
    "            \n",
    "    if calcE:\n",
    "        avgE=0.0\n",
    "        for i in range(L):\n",
    "            for j in range(L):\n",
    "                spin_final = mat[i,j]\n",
    "                neighbor_sum = mat[(i+1)%L,j]+mat[(i-1)%L,j]+mat[i,(j+1)%L]+mat[i,(j-1)%L]\n",
    "                E_final = -spin_final*neighbor_sum\n",
    "                avgE+=float(E_final)\n",
    "    \n",
    "        avgE/=float(L**2)                   \n",
    "        return avgE"
   ]
  },
  {
   "cell_type": "code",
   "execution_count": 14,
   "metadata": {},
   "outputs": [],
   "source": [
    "def iterateWolffTri(mat,T,calcE=False):\n",
    "    # Wolff algorithm for a triangular lattice\n",
    "    \"\"\"\n",
    "    Parameters:\n",
    "        mat: numpy array containing the current spin configuration\n",
    "        T: Temperature for the simulation\n",
    "        calcE: Flag to calculate and return the average spin energy for the final configuration.\n",
    "    \"\"\"\n",
    "    L,_ = mat.shape\n",
    "    tracker = np.zeros((L,L))\n",
    "    \n",
    "    i,j = np.random.randint(0,L,size=2)\n",
    "    spin = mat[i,j]\n",
    "    stack = [(i,j)]\n",
    "    tracker[i,j]=1\n",
    "    \n",
    "    cluster = [(i,j)]\n",
    "    while len(stack)>0:\n",
    "        i,j = stack.pop()\n",
    "        neighbors = [(i,(j+1)%L),(i,(j-1)%L),((i+1)%L,j),((i-1)%L,j),((i+1)%L,(j+1)%L),((i-1)%L,(j-1)%L)]\n",
    "        for pair in neighbors:\n",
    "            l,m = pair\n",
    "            if (mat[l,m]==spin and tracker[l,m]==0 and np.random.random()< (1.0-np.exp(-2.0/T))):\n",
    "                cluster.append((l,m))\n",
    "                stack.append((l,m))\n",
    "                tracker[l,m]=1\n",
    "            \n",
    "    flipCluster(mat,cluster)\n",
    "            \n",
    "    if calcE:\n",
    "        avgE=0.0\n",
    "        for i in range(L):\n",
    "            for j in range(L):\n",
    "                spin_final = mat[i,j]\n",
    "                neighbor_sum = mat[(i+1)%L,j]+mat[(i-1)%L,j]+mat[i,(j+1)%L]+mat[i,(j-1)%L]+mat[(i+1)%L,(j+1)%L]+mat[(i-1)%L,(j-1)%L]\n",
    "                E_final = -spin_final*neighbor_sum\n",
    "                avgE+=float(E_final)\n",
    "    \n",
    "        avgE/=float(L**2)                   \n",
    "        return avgE"
   ]
  },
  {
   "cell_type": "markdown",
   "metadata": {},
   "source": [
    "## Statistical calculations\n",
    "\n",
    "The below functions are used to calculate various statistical properties of the simulated configurations. These will be used to compare outcomes from generative neural nets. It will be interesting to see the extent to which neural nets can learn to produce configurations that posses the correct statistical properties."
   ]
  },
  {
   "cell_type": "markdown",
   "metadata": {},
   "source": [
    "First, create a function to calculate the correlation function for a given configuration."
   ]
  },
  {
   "cell_type": "code",
   "execution_count": 15,
   "metadata": {},
   "outputs": [],
   "source": [
    "def calcCorr(mat, dist):\n",
    "    # Calculate the spin-spin truncated correlation function for spins separated by a specified distance.\n",
    "    \"\"\"\n",
    "    Parameters:\n",
    "        mat: numpy array containing the current spin configuration\n",
    "        dist: distance value for the correlation function\n",
    "    \"\"\"\n",
    "    L,_ = mat.shape\n",
    "    \n",
    "    products1 = 0\n",
    "    avg1 = 0\n",
    "    avg2 = 0\n",
    "    for i in range(L):\n",
    "        for j in range(L):\n",
    "            idx1 = (i+dist)%L\n",
    "            idx2 = (i-dist)%L\n",
    "            idx3 = (j+dist)%L\n",
    "            idx4 = (j-dist)%L\n",
    "            products1 += mat[i,j]*(mat[i,idx3] + mat[idx1,j] + mat[i,idx4] + mat[idx2,j])\n",
    "            avg1 += mat[i,j]\n",
    "            avg2 += (mat[i,idx3] + mat[idx1,j] + mat[i,idx4] + mat[idx2,j])\n",
    "        \n",
    "    products1/=(4.0*L*L)\n",
    "    avg1/= float(L*L)\n",
    "    avg2/= (4.0*L*L)\n",
    "    corrFunc = products1 - avg1*avg1\n",
    "    return dist, corrFunc"
   ]
  },
  {
   "cell_type": "markdown",
   "metadata": {},
   "source": [
    "Second, create a fuction to calculate the correlation length, when provided the correlation function."
   ]
  },
  {
   "cell_type": "code",
   "execution_count": 16,
   "metadata": {},
   "outputs": [],
   "source": [
    "def corrLength(corrs):\n",
    "    # Calculates the correlation length\n",
    "    \"\"\"\n",
    "    Parameters:\n",
    "        corrs: numpy array containing the ordered values of the correlation function for distance staring with 1 \n",
    "    \"\"\"\n",
    "    dist = np.arange(1,len(corrs)+1,dtype=float)\n",
    "    m,b = np.polyfit(dist,np.log(corrs),1)\n",
    "    \n",
    "    length = -1.0/m\n",
    "    return length"
   ]
  },
  {
   "cell_type": "markdown",
   "metadata": {},
   "source": [
    "## Data Generation\n",
    "\n",
    "Define functions to automate the simulations and save the ouput"
   ]
  },
  {
   "cell_type": "code",
   "execution_count": 17,
   "metadata": {},
   "outputs": [],
   "source": [
    "def simulate(mat,T,steps):\n",
    "    #MC simulation for a square lattice, using the Wolff algorithm\n",
    "    for step in range(steps):\n",
    "        iterateWolff(mat,T)"
   ]
  },
  {
   "cell_type": "code",
   "execution_count": 18,
   "metadata": {},
   "outputs": [],
   "source": [
    "def simulateTri(mat,T,steps):\n",
    "    #MC simulation for a triangular lattice, using the Wolff algorithm\n",
    "    for step in range(steps):\n",
    "        iterateWolffTri(mat,T)"
   ]
  },
  {
   "cell_type": "code",
   "execution_count": 19,
   "metadata": {},
   "outputs": [],
   "source": [
    "def generateSamples(T,L,steps,samples,dirPath):\n",
    "    # Generate, label, and save configurations for a square lattice\n",
    "    \"\"\"\n",
    "    Parameters:\n",
    "        T: Temperature\n",
    "        L: Linear lattice size\n",
    "        steps: Number of simulation steps\n",
    "        sample: Number of configuration steps\n",
    "        dirPath: save location\n",
    "    \"\"\"\n",
    "    for i in range(1,samples+1):\n",
    "        mat = createArray(L)\n",
    "        simulate(mat,T,steps)\n",
    "        \n",
    "        if T<2.27: # For a square lattice, the critical T is ~2.27\n",
    "            category = \"low\"\n",
    "        else:\n",
    "            category = \"high\"\n",
    "        \n",
    "        path = os.path.join(dirPath,category)\n",
    "        os.makedirs(path, exist_ok=True)\n",
    "        np.save(os.path.join(path,f\"{category}_{T:.2f}_{i}_\"),mat)"
   ]
  },
  {
   "cell_type": "code",
   "execution_count": 20,
   "metadata": {},
   "outputs": [],
   "source": [
    "def generateSamplesTri(T,L,steps,samples,dirPath):\n",
    "    # Generate, label, and save configurations for a triangular lattice\n",
    "    for i in range(1,samples+1):\n",
    "        mat = createArray(L)\n",
    "        simulateTri(mat,T,steps)\n",
    "        \n",
    "        if T<3.65: # Critical T for a triangular lattice\n",
    "            category = \"low\"\n",
    "        else:\n",
    "            category = \"high\"\n",
    "        \n",
    "        path = os.path.join(dirPath,category)\n",
    "        os.makedirs(path, exist_ok=True)\n",
    "        np.save(os.path.join(path,f\"{category}_{T:.2f}_{i}_\"),mat)"
   ]
  },
  {
   "cell_type": "markdown",
   "metadata": {},
   "source": [
    "## Example simulations\n",
    "Produce some sample configurations  "
   ]
  },
  {
   "cell_type": "markdown",
   "metadata": {},
   "source": [
    "### Initial state\n",
    "First create an initial high temperature state and plot the outcome. Each square reperesents a particle, and the color indicates the spin.\n",
    "\n",
    "Spin up: Yellow\n",
    "\n",
    "Spin down: Purple"
   ]
  },
  {
   "cell_type": "code",
   "execution_count": 21,
   "metadata": {},
   "outputs": [
    {
     "data": {
      "text/plain": [
       "<matplotlib.image.AxesImage at 0x7f177c62ce10>"
      ]
     },
     "execution_count": 21,
     "metadata": {},
     "output_type": "execute_result"
    },
    {
     "data": {
      "image/png": "[encoded data removed]",
      "text/plain": [
       "<Figure size 640x480 with 1 Axes>"
      ]
     },
     "metadata": {},
     "output_type": "display_data"
    }
   ],
   "source": [
    "# Initial configuration of 50x50 Ising lattice\n",
    "mat=createArray(50)\n",
    "plt.imshow(mat)"
   ]
  },
  {
   "cell_type": "markdown",
   "metadata": {},
   "source": [
    "### Near critical state\n",
    "Now, run the MC simulation for 3000 steps at a temperature near the critical temp (2.27).\n",
    "\n",
    "After simulation, most of the particles have the same spin (spin-up in the plot below, as shown by the yellow), and clusters of particles with spin-down emerge (purple). The average size of the clusters correspond to the correlation length, which is an important statistical quantity. "
   ]
  },
  {
   "cell_type": "code",
   "execution_count": 22,
   "metadata": {},
   "outputs": [
    {
     "data": {
      "text/plain": [
       "<matplotlib.image.AxesImage at 0x7f177c67c750>"
      ]
     },
     "execution_count": 22,
     "metadata": {},
     "output_type": "execute_result"
    },
    {
     "data": {
      "image/png": "[encoded data removed]",
      "text/plain": [
       "<Figure size 640x480 with 1 Axes>"
      ]
     },
     "metadata": {},
     "output_type": "display_data"
    }
   ],
   "source": [
    "simulate(mat,2.3,3000)\n",
    "plt.imshow(mat)"
   ]
  },
  {
   "cell_type": "markdown",
   "metadata": {},
   "source": [
    "### High temperature state\n",
    "\n",
    "At high temperatures, we see that the configuration after many simulations looks similar to the initial state, as expected. At high T, structures do not form."
   ]
  },
  {
   "cell_type": "code",
   "execution_count": 23,
   "metadata": {
    "scrolled": true
   },
   "outputs": [
    {
     "data": {
      "text/plain": [
       "<matplotlib.image.AxesImage at 0x7f177a3cecd0>"
      ]
     },
     "execution_count": 23,
     "metadata": {},
     "output_type": "execute_result"
    },
    {
     "data": {
      "image/png": "[encoded data removed]",
      "text/plain": [
       "<Figure size 640x480 with 1 Axes>"
      ]
     },
     "metadata": {},
     "output_type": "display_data"
    }
   ],
   "source": [
    "# High temperature simulation of 50x50 Ising lattice\n",
    "mat=createArray(50)\n",
    "simulate(mat,9.3,3000)\n",
    "plt.imshow(mat)"
   ]
  },
  {
   "cell_type": "markdown",
   "metadata": {},
   "source": [
    "### Low temperature state\n",
    "\n",
    "At low tempeartures, spins of the particles tend to align very quickly, since aligned spins lead to the lowest energy state. Even after only 30 iteration, we have a nearly uniform state, with some fluctuations."
   ]
  },
  {
   "cell_type": "code",
   "execution_count": 24,
   "metadata": {},
   "outputs": [
    {
     "data": {
      "text/plain": [
       "<matplotlib.image.AxesImage at 0x7f177a36ced0>"
      ]
     },
     "execution_count": 24,
     "metadata": {},
     "output_type": "execute_result"
    },
    {
     "data": {
      "image/png": "[encoded data removed]",
      "text/plain": [
       "<Figure size 640x480 with 1 Axes>"
      ]
     },
     "metadata": {},
     "output_type": "display_data"
    }
   ],
   "source": [
    "# Low temperature simulation of 50x50 Ising lattice\n",
    "mat=createArray(50)\n",
    "simulate(mat,1.2,30)\n",
    "plt.imshow(mat)"
   ]
  },
  {
   "cell_type": "markdown",
   "metadata": {},
   "source": [
    "## Generate training and validation sets\n",
    "\n",
    "To generate the configurations for the dataset, need to decide how long to run the simulations. The goal is to save the configurations once they have \"thermalized\". One way to check for this is to monitor the average particle energy throughout the simulations to determine when it reaches an equilibrium value. Doing so shows that perfoming 1000 iterations would likely produce a thermalized configuration."
   ]
  },
  {
   "cell_type": "code",
   "execution_count": 29,
   "metadata": {},
   "outputs": [
    {
     "name": "stderr",
     "output_type": "stream",
     "text": [
      "  1%|          | 22/2000 [00:00<00:42, 46.73it/s] "
     ]
    },
    {
     "name": "stderr",
     "output_type": "stream",
     "text": [
      "100%|██████████| 2000/2000 [00:44<00:00, 45.26it/s] \n"
     ]
    }
   ],
   "source": [
    "steps=2000\n",
    "mat_lowT=createArray(20)\n",
    "mat_critT=createArray(20)\n",
    "mat_highT=createArray(20)\n",
    "\n",
    "avgE_lowT = np.zeros(steps)\n",
    "avgE_critT = np.zeros(steps)\n",
    "avgE_highT = np.zeros(steps)\n",
    "for step in tqdm(range(steps)):\n",
    "    avgE_lowT[step]=iterateWolff(mat_lowT,1.8,True)\n",
    "    avgE_critT[step]=iterateWolff(mat_critT,2.3,True)\n",
    "    avgE_highT[step]=iterateWolff(mat_highT,3.1,True)\n",
    "    #avgE[step]=iterate(mat,2.1,True)"
   ]
  },
  {
   "cell_type": "code",
   "execution_count": 26,
   "metadata": {},
   "outputs": [
    {
     "data": {
      "text/plain": [
       "Text(0, 0.5, 'Avg particle energy')"
      ]
     },
     "execution_count": 26,
     "metadata": {},
     "output_type": "execute_result"
    },
    {
     "data": {
      "image/png": "[encoded data removed]",
      "text/plain": [
       "<Figure size 640x480 with 1 Axes>"
      ]
     },
     "metadata": {},
     "output_type": "display_data"
    }
   ],
   "source": [
    "plt.plot(avgE_lowT, label = \"low T\")\n",
    "plt.plot(avgE_critT,label = \"critical T\")\n",
    "plt.plot(avgE_highT,label = \"high T\")\n",
    "plt.legend(loc=\"upper right\")\n",
    "plt.xlabel(\"Iteration number\")\n",
    "plt.ylabel(\"Avg particle energy\")"
   ]
  },
  {
   "cell_type": "markdown",
   "metadata": {},
   "source": [
    "Now create a list of temperatures for which to perform simulations. I use a denser sampling of temperatures near the critical temperature.\n",
    "\n",
    "Produce 500 samples per temperature value for a system size of 20x20."
   ]
  },
  {
   "cell_type": "code",
   "execution_count": 27,
   "metadata": {},
   "outputs": [],
   "source": [
    "Temps = np.concatenate((np.arange(1.5,3.2,0.1),np.arange(1.75,3.05,0.1)))"
   ]
  },
  {
   "cell_type": "markdown",
   "metadata": {},
   "source": [
    "I invoke a parallelization of the simulations to generate them more quickly."
   ]
  },
  {
   "cell_type": "code",
   "execution_count": null,
   "metadata": {},
   "outputs": [],
   "source": [
    "%%time\n",
    "samples = 500\n",
    "L=20\n",
    "steps = 1000\n",
    "jobs=zip(Temps,repeat(L),repeat(steps),repeat(samples),repeat(train_path))\n",
    "p = mp.Pool(4)\n",
    "p.starmap(generateSamples, jobs)\n",
    "p.close()\n",
    "p.join()"
   ]
  },
  {
   "cell_type": "markdown",
   "metadata": {},
   "source": [
    "For the validation set, generate 100 configurations for each temp."
   ]
  },
  {
   "cell_type": "code",
   "execution_count": 125,
   "metadata": {},
   "outputs": [
    {
     "name": "stdout",
     "output_type": "stream",
     "text": [
      "CPU times: user 18.6 ms, sys: 7.67 ms, total: 26.2 ms\n",
      "Wall time: 125 ms\n"
     ]
    }
   ],
   "source": [
    "%%time\n",
    "samples = 100\n",
    "L=20\n",
    "steps = 1000\n",
    "jobs=zip(Temps,repeat(L),repeat(steps),repeat(samples),repeat(valid_path))\n",
    "p = mp.Pool(4)\n",
    "p.starmap(generateSamples, jobs)\n",
    "p.close()\n",
    "p.join()"
   ]
  },
  {
   "cell_type": "markdown",
   "metadata": {},
   "source": [
    "### Test set for a triangular lattice\n",
    "To see how well our neural net generalizes, we also generate a test set of Ising configurations on a triangular lattice. The goal will be to predict the critical temperature, which takes the value of ~3.65, after only being trained on the square lattice dataset."
   ]
  },
  {
   "cell_type": "code",
   "execution_count": 126,
   "metadata": {},
   "outputs": [],
   "source": [
    "tri_test_path = '../../data/Ising/testTri/'"
   ]
  },
  {
   "cell_type": "code",
   "execution_count": 127,
   "metadata": {},
   "outputs": [],
   "source": [
    "Temps_tri = np.arange(2.5,4.5,0.1)"
   ]
  },
  {
   "cell_type": "code",
   "execution_count": 130,
   "metadata": {},
   "outputs": [],
   "source": [
    "samples = 100\n",
    "L=20\n",
    "steps = 1000\n",
    "jobs=zip(Temps_tri,repeat(L),repeat(steps),repeat(samples),repeat(tri_test_path))\n",
    "p = mp.Pool(4)\n",
    "p.starmap(generateSamplesTri, jobs)\n",
    "p.close()\n",
    "p.join()"
   ]
  },
  {
   "cell_type": "markdown",
   "metadata": {},
   "source": [
    "### Load and plot a generated sample\n",
    "Just to check a sample output, load and plot it."
   ]
  },
  {
   "cell_type": "code",
   "execution_count": 138,
   "metadata": {},
   "outputs": [],
   "source": [
    "data_files=os.listdir(f\"{valid_path}/low\")"
   ]
  },
  {
   "cell_type": "code",
   "execution_count": 140,
   "metadata": {
    "scrolled": true
   },
   "outputs": [
    {
     "data": {
      "text/plain": [
       "<matplotlib.image.AxesImage at 0x7f601fa4ccf8>"
      ]
     },
     "execution_count": 140,
     "metadata": {},
     "output_type": "execute_result"
    },
    {
     "data": {
      "image/png": "[encoded data removed]",
      "text/plain": [
       "<Figure size 432x288 with 1 Axes>"
      ]
     },
     "metadata": {
      "needs_background": "light"
     },
     "output_type": "display_data"
    }
   ],
   "source": [
    "sampleMat=np.load(os.path.join(f\"{valid_path}/low\",data_files[0]))\n",
    "plt.imshow(sampleMat)"
   ]
  },
  {
   "cell_type": "markdown",
   "metadata": {},
   "source": [
    "# All done!\n",
    "Now all datasets have been generated and we an can train our neural nets!"
   ]
  },
  {
   "cell_type": "markdown",
   "metadata": {},
   "source": [
    "## Calculate correlations\n",
    "Currently working on the statistical analysis... more to come!"
   ]
  },
  {
   "cell_type": "code",
   "execution_count": 45,
   "metadata": {},
   "outputs": [
    {
     "data": {
      "text/plain": [
       "[<matplotlib.lines.Line2D at 0x7f025ecba588>]"
      ]
     },
     "execution_count": 45,
     "metadata": {},
     "output_type": "execute_result"
    },
    {
     "data": {
      "image/png": "[encoded data removed]",
      "text/plain": [
       "<Figure size 432x288 with 1 Axes>"
      ]
     },
     "metadata": {
      "needs_background": "light"
     },
     "output_type": "display_data"
    }
   ],
   "source": [
    "corr = np.zeros(int(100/2))\n",
    "for i in range(1,int(100/2)):\n",
    "    _,corr[i] = calcCorr(mat,100,i)\n",
    "\n",
    "corr_theory = np.fromfunction(lambda i : (i+1.0)**-0.25, shape=(50,),dtype=float)\n",
    "plt.plot(corr[1:],'o')\n",
    "plt.plot(corr_theory[1:],'o')"
   ]
  },
  {
   "cell_type": "code",
   "execution_count": null,
   "metadata": {},
   "outputs": [],
   "source": []
  }
 ],
 "metadata": {
  "kernelspec": {
   "display_name": "Python 3",
   "language": "python",
   "name": "python3"
  },
  "language_info": {
   "codemirror_mode": {
    "name": "ipython",
    "version": 3
   },
   "file_extension": ".py",
   "mimetype": "text/x-python",
   "name": "python",
   "nbconvert_exporter": "python",
   "pygments_lexer": "ipython3",
   "version": "3.11.4"
  }
 },
 "nbformat": 4,
 "nbformat_minor": 2
}
