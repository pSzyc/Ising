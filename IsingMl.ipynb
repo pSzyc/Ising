{
 "cells": [
  {
   "cell_type": "code",
   "execution_count": 88,
   "metadata": {},
   "outputs": [],
   "source": [
    "from pathlib import Path\n",
    "import csv\n",
    "import matplotlib.pyplot as plt\n",
    "#try:\n",
    "#    folder_path = Path(\"GetData/Rust/get_data_rust/Data/Simulations\")\n",
    "#    reader = csv.DictReader(open(folder_path / \"parameters.csv\"))\n",
    "#    par_dict = next(reader) \n",
    "#except:\n",
    "#    raise ValueError(\"Invalid folder provided\")\n",
    "#sim_num = int(par_dict['Simulatiton Number'])"
   ]
  },
  {
   "cell_type": "code",
   "execution_count": 133,
   "metadata": {},
   "outputs": [],
   "source": [
    "import tensorflow as tf\n",
    "import numpy as np\n",
    "from math import ceil\n",
    "\n",
    "class RBM:\n",
    "    def __init__(self, num_visible, num_hidden, learning_rate=0.1):\n",
    "        self.num_visible = num_visible\n",
    "        self.num_hidden = num_hidden\n",
    "        self.learning_rate = learning_rate\n",
    "\n",
    "        self.W = tf.Variable(tf.random.normal([num_visible, num_hidden], stddev=0.01))\n",
    "        self.visible_bias = tf.Variable(tf.zeros([num_visible]))\n",
    "        self.hidden_bias = tf.Variable(tf.zeros([num_hidden]))\n",
    "\n",
    "    def sample_h_given_v(self, v):\n",
    "        p_h_given_v = tf.nn.sigmoid(tf.matmul(v, self.W) + self.hidden_bias)\n",
    "        p = tf.random.uniform(shape = p_h_given_v.shape)\n",
    "        h_new = tf.cast(p_h_given_v <= p, dtype=tf.float32)\n",
    "        return h_new, p_h_given_v\n",
    "\n",
    "    def sample_v_given_h(self, h):\n",
    "        p_v_given_h = tf.nn.sigmoid(tf.matmul(h, tf.transpose(self.W)) + self.visible_bias)\n",
    "        p = tf.random.uniform(shape = p_v_given_h.shape)\n",
    "        v_new = tf.cast(p_v_given_h <= p, dtype=tf.float32)\n",
    "        return v_new\n",
    "\n",
    "\n",
    "    def train(self, input_data, num_epochs=10, batch_size=10):\n",
    "        num_samples = input_data.shape[0]\n",
    "        for epoch in range(num_epochs):\n",
    "            total_loss = 0.0  # Track the total loss for this epoch\n",
    "            for i in range(0, ceil(num_samples/batch_size), batch_size):\n",
    "                v0 = input_data[i* batch_size:(i+1) * batch_size]\n",
    "                h0, h0_prob = self.sample_h_given_v(v0)\n",
    "                v_new = self.sample_v_given_h(h0)\n",
    "                h_new, h_new_prob = self.sample_h_given_v(v0)\n",
    "                self.backward(v0, h0_prob, v_new, h_new_prob)\n",
    "                reconstruction_loss = tf.reduce_mean(tf.square(v0 - v_new))\n",
    "                total_loss += reconstruction_loss\n",
    "            \n",
    "            if epoch % 25 == 0:\n",
    "                avg_loss = total_loss / (num_samples / batch_size)\n",
    "                print(f\"Epoch {epoch}/{num_epochs}, Average Loss: {avg_loss:.4f}\")\n",
    "        print(\"Training completed.\")\n",
    "\n",
    "    def backward(self, v0, h0_prob, v_new, h_new_prob):\n",
    "        d_vb = np.average(v0, axis=0)-np.average(v_new, axis=0)\n",
    "        d_hb = np.average(h0_prob, axis=0)-np.average(h_new_prob, axis=0)\n",
    "        d_W = tf.matmul(tf.transpose(v0), h0_prob) - tf.matmul(tf.transpose(v_new), h_new_prob)\n",
    "        self.W.assign_sub(self.learning_rate * d_W)\n",
    "        self.hidden_bias.assign_sub(self.learning_rate * d_hb)\n",
    "        self.visible_bias.assign_sub(self.learning_rate * d_vb)\n",
    "\n",
    "    def generate(self, num_samples):\n",
    "        # Gibbs sampling to generate new samples\n",
    "        samples = tf.random.uniform(shape=[num_samples, self.num_visible])\n",
    "        for _ in range(1000):  # Perform 1000 Gibbs sampling steps for mixing\n",
    "            hidden_samples, _ = self.sample_h_given_v(samples)\n",
    "            samples = self.sample_v_given_h(hidden_samples)\n",
    "        return samples"
   ]
  },
  {
   "cell_type": "code",
   "execution_count": 134,
   "metadata": {},
   "outputs": [],
   "source": [
    "import os\n",
    "import numpy as np\n",
    "path = \"GetData/Rust/get_data_rust/Data/FirstSet/\"\n",
    "data_paths = []\n",
    "for root, dirs, files in os.walk(path, topdown=False):\n",
    "    for file in files:\n",
    "        if file.endswith(\".npy\"):\n",
    "            data_paths.append(os.path.join(root, file))\n",
    "\n",
    "data_array = []\n",
    "for file_path in data_paths:\n",
    "    data_array.append(np.load(file_path).flatten())\n",
    "data_array = np.array(data_array)"
   ]
  },
  {
   "cell_type": "code",
   "execution_count": 138,
   "metadata": {},
   "outputs": [
    {
     "name": "stdout",
     "output_type": "stream",
     "text": [
      "Epoch 0/150, Average Loss: 1.4927\n",
      "Epoch 25/150, Average Loss: 1.0055\n",
      "Epoch 50/150, Average Loss: 1.0050\n",
      "Epoch 75/150, Average Loss: 1.0048\n",
      "Epoch 100/150, Average Loss: 1.0046\n",
      "Epoch 125/150, Average Loss: 1.0044\n",
      "Training completed.\n"
     ]
    }
   ],
   "source": [
    "data = tf.convert_to_tensor(data_array, dtype=tf.float32)\n",
    "rbm = RBM(num_visible=data.shape[1], num_hidden=164, learning_rate=0.01)\n",
    "rbm.train(data, num_epochs=150, batch_size=100)"
   ]
  },
  {
   "cell_type": "code",
   "execution_count": 139,
   "metadata": {},
   "outputs": [
    {
     "data": {
      "text/plain": [
       "<tf.Tensor: shape=(10, 4096), dtype=float32, numpy=\n",
       "array([[1., 1., 0., ..., 1., 0., 1.],\n",
       "       [0., 1., 0., ..., 1., 0., 0.],\n",
       "       [1., 0., 0., ..., 0., 1., 1.],\n",
       "       ...,\n",
       "       [1., 0., 0., ..., 1., 0., 1.],\n",
       "       [1., 1., 0., ..., 0., 0., 0.],\n",
       "       [0., 0., 1., ..., 1., 0., 1.]], dtype=float32)>"
      ]
     },
     "execution_count": 139,
     "metadata": {},
     "output_type": "execute_result"
    }
   ],
   "source": [
    "data_gen = rbm.generate(10)\n",
    "data_gen"
   ]
  },
  {
   "cell_type": "code",
   "execution_count": 144,
   "metadata": {},
   "outputs": [
    {
     "data": {
      "text/plain": [
       "<matplotlib.image.AxesImage at 0x7f59692465d0>"
      ]
     },
     "execution_count": 144,
     "metadata": {},
     "output_type": "execute_result"
    },
    {
     "data": {
      "image/png": "[encoded data removed]",
      "text/plain": [
       "<Figure size 640x480 with 1 Axes>"
      ]
     },
     "metadata": {},
     "output_type": "display_data"
    }
   ],
   "source": [
    "data = tf.reshape(data_gen[0], (64,64))\n",
    "plt.imshow(data)"
   ]
  }
 ],
 "metadata": {
  "kernelspec": {
   "display_name": "Python 3",
   "language": "python",
   "name": "python3"
  },
  "language_info": {
   "codemirror_mode": {
    "name": "ipython",
    "version": 3
   },
   "file_extension": ".py",
   "mimetype": "text/x-python",
   "name": "python",
   "nbconvert_exporter": "python",
   "pygments_lexer": "ipython3",
   "version": "3.11.5"
  },
  "orig_nbformat": 4
 },
 "nbformat": 4,
 "nbformat_minor": 2
}
