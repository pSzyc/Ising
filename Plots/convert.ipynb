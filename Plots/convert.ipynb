{
 "cells": [
  {
   "cell_type": "code",
   "execution_count": 2,
   "metadata": {},
   "outputs": [],
   "source": [
    "import subprocess\n",
    "import os\n",
    "\n",
    "def convert_svg_files(directory, output_directory):\n",
    "    for filename in os.listdir(directory):\n",
    "        if filename.endswith(\".svg\"):\n",
    "            svg_path = os.path.join(directory, filename)\n",
    "            pdf_path = os.path.join(output_directory, filename.replace(\".svg\", \".pdf\"))\n",
    "            command = ['inkscape', svg_path, '--export-filename', pdf_path]\n",
    "            try:\n",
    "                subprocess.run(command, check=True)\n",
    "                print(f\"Successfully converted {svg_path} to PDF\")\n",
    "            except subprocess.CalledProcessError as e:\n",
    "                print(f\"Error occurred while converting {svg_path} to PDF: {str(e)}\")"
   ]
  },
  {
   "cell_type": "code",
   "execution_count": 2,
   "metadata": {},
   "outputs": [
    {
     "name": "stdout",
     "output_type": "stream",
     "text": [
      "Successfully converted ../Model/VAE/Final/methods_energy.svg to PDF\n",
      "Successfully converted ../Model/VAE/Final/methods_magnetization.svg to PDF\n",
      "Successfully converted ../Model/VAE/Final/samples_high.svg to PDF\n",
      "Successfully converted ../Model/VAE/Final/samples_low.svg to PDF\n"
     ]
    },
    {
     "name": "stderr",
     "output_type": "stream",
     "text": [
      "\n",
      "** (org.inkscape.Inkscape:39638): WARNING **: 15:38:47.143: Ignoring unrecognized CSS property: background-color\n",
      "\n",
      "** (org.inkscape.Inkscape:39638): WARNING **: 15:38:47.162: Ignoring unrecognized CSS property: background-color\n",
      "\n",
      "** (org.inkscape.Inkscape:39638): WARNING **: 15:38:47.172: Ignoring unrecognized CSS property: background-color\n"
     ]
    },
    {
     "name": "stdout",
     "output_type": "stream",
     "text": [
      "Successfully converted ../Model/VAE/Final/decoder.svg to PDF\n",
      "Successfully converted ../Model/VAE/Final/encoder.svg to PDF\n",
      "Successfully converted ../Model/VAE/Final/vae_summary.svg to PDF\n",
      "Successfully converted ../Model/VAE/Final/vae.svg to PDF\n",
      "Successfully converted ../Model/VAE/Final/ks_test_logvariances_empirical_normal.svg to PDF\n",
      "Successfully converted ../Model/VAE/Final/ks_test_logvariances_N01.svg to PDF\n",
      "Successfully converted ../Model/VAE/Final/ks_test_means_empirical_normal.svg to PDF\n",
      "Successfully converted ../Model/VAE/Final/ks_test_means_N01.svg to PDF\n",
      "Successfully converted ../Model/VAE/Final/final_vae.svg to PDF\n",
      "Successfully converted ../Model/VAE/Final/vars_tsne.svg to PDF\n",
      "Successfully converted ../Model/VAE/Final/vars_tsne_gm.svg to PDF\n",
      "Successfully converted ../Model/VAE/Final/means_tsne.svg to PDF\n"
     ]
    }
   ],
   "source": [
    "convert_svg_files(\"../Model/VAE/Final\", \"VAE\")"
   ]
  },
  {
   "cell_type": "code",
   "execution_count": 3,
   "metadata": {},
   "outputs": [
    {
     "name": "stdout",
     "output_type": "stream",
     "text": [
      "Successfully converted ../Model/GAN/Final/gan.svg to PDF\n",
      "Successfully converted ../Model/GAN/Final/final_plot.svg to PDF\n",
      "Successfully converted ../Model/GAN/Final/sampled_rounded.svg to PDF\n",
      "Successfully converted ../Model/GAN/Final/samples_low.svg to PDF\n",
      "Successfully converted ../Model/GAN/Final/samples_high.svg to PDF\n"
     ]
    }
   ],
   "source": [
    "convert_svg_files(\"../Model/GAN/Final\", \"GAN\")"
   ]
  }
 ],
 "metadata": {
  "kernelspec": {
   "display_name": "Python 3",
   "language": "python",
   "name": "python3"
  },
  "language_info": {
   "codemirror_mode": {
    "name": "ipython",
    "version": 3
   },
   "file_extension": ".py",
   "mimetype": "text/x-python",
   "name": "python",
   "nbconvert_exporter": "python",
   "pygments_lexer": "ipython3",
   "version": "3.11.9"
  }
 },
 "nbformat": 4,
 "nbformat_minor": 2
}
