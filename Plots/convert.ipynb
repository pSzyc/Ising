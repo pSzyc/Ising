{
 "cells": [
  {
   "cell_type": "code",
   "execution_count": 5,
   "metadata": {},
   "outputs": [],
   "source": [
    "import subprocess\n",
    "import os\n",
    "\n",
    "def convert_svg_files(directory, output_directory):\n",
    "    for filename in os.listdir(directory):\n",
    "        if filename.endswith(\".svg\"):\n",
    "            svg_path = os.path.join(directory, filename)\n",
    "            pdf_path = os.path.join(output_directory, filename.replace(\".svg\", \".pdf\"))\n",
    "            command = ['inkscape', svg_path, '--export-filename', pdf_path]\n",
    "            try:\n",
    "                subprocess.run(command, check=True)\n",
    "                print(f\"Successfully converted {svg_path} to PDF\")\n",
    "            except subprocess.CalledProcessError as e:\n",
    "                print(f\"Error occurred while converting {svg_path} to PDF: {str(e)}\")"
   ]
  },
  {
   "cell_type": "code",
   "execution_count": 6,
   "metadata": {},
   "outputs": [
    {
     "name": "stderr",
     "output_type": "stream",
     "text": [
      "\n",
      "** (org.inkscape.Inkscape:17462): WARNING **: 17:23:41.095: Ignoring unrecognized CSS property: background-color\n",
      "\n",
      "** (org.inkscape.Inkscape:17462): WARNING **: 17:23:41.127: Ignoring unrecognized CSS property: background-color\n",
      "\n",
      "** (org.inkscape.Inkscape:17462): WARNING **: 17:23:41.142: Ignoring unrecognized CSS property: background-color\n"
     ]
    },
    {
     "name": "stdout",
     "output_type": "stream",
     "text": [
      "Successfully converted ../Model/VAE/Final/decoder.svg to PDF\n",
      "Successfully converted ../Model/VAE/Final/encoder.svg to PDF\n",
      "Successfully converted ../Model/VAE/Final/vae_summary.svg to PDF\n",
      "Successfully converted ../Model/VAE/Final/vae.svg to PDF\n",
      "Successfully converted ../Model/VAE/Final/methods_energy.svg to PDF\n",
      "Successfully converted ../Model/VAE/Final/methods_magnetization.svg to PDF\n",
      "Successfully converted ../Model/VAE/Final/vars_tsne.svg to PDF\n",
      "Successfully converted ../Model/VAE/Final/vars_tsne_gm.svg to PDF\n",
      "Successfully converted ../Model/VAE/Final/means_tsne.svg to PDF\n",
      "Successfully converted ../Model/VAE/Final/samples_all.svg to PDF\n",
      "Successfully converted ../Model/VAE/Final/final_vae.svg to PDF\n",
      "Successfully converted ../Model/VAE/Final/ks_test_logvariances_empirical_normal.svg to PDF\n",
      "Successfully converted ../Model/VAE/Final/ks_test_logvariances_N01.svg to PDF\n",
      "Successfully converted ../Model/VAE/Final/ks_test_means_empirical_normal.svg to PDF\n",
      "Successfully converted ../Model/VAE/Final/ks_test_means_N01.svg to PDF\n"
     ]
    }
   ],
   "source": [
    "convert_svg_files(\"../Model/VAE/Final\", \"VAE\")"
   ]
  },
  {
   "cell_type": "code",
   "execution_count": 4,
   "metadata": {},
   "outputs": [
    {
     "name": "stdout",
     "output_type": "stream",
     "text": [
      "Successfully converted ../Model/GAN/Final/gan.svg to PDF\n",
      "Successfully converted ../Model/GAN/Final/cost_function.svg to PDF\n",
      "Successfully converted ../Model/GAN/Final/final_plot.svg to PDF\n",
      "Successfully converted ../Model/GAN/Final/sampled_rounded.svg to PDF\n",
      "Successfully converted ../Model/GAN/Final/samples_all.svg to PDF\n"
     ]
    }
   ],
   "source": [
    "convert_svg_files(\"../Model/GAN/Final\", \"GAN\")"
   ]
  },
  {
   "cell_type": "markdown",
   "metadata": {},
   "source": []
  },
  {
   "cell_type": "code",
   "execution_count": 5,
   "metadata": {},
   "outputs": [
    {
     "name": "stdout",
     "output_type": "stream",
     "text": [
      "convert.ipynb  GAN  Ising  plot.svg  __pycache__  style.py  VAE\n"
     ]
    }
   ],
   "source": [
    "!ls"
   ]
  },
  {
   "cell_type": "code",
   "execution_count": 8,
   "metadata": {},
   "outputs": [
    {
     "name": "stdout",
     "output_type": "stream",
     "text": [
      "Successfully converted ./plot.svg to PDF\n"
     ]
    }
   ],
   "source": [
    "convert_svg_files(\".\", \"Ising\")"
   ]
  },
  {
   "cell_type": "code",
   "execution_count": 10,
   "metadata": {},
   "outputs": [],
   "source": [
    "simulation_times = \"100 simulations took 4.860095739364624 seconds 100 simulations took 3.4598636627197266 seconds 100 simulations took 3.228900671005249 seconds 100 simulations took 2.8001673221588135 seconds 100 simulations took 2.4249768257141113 seconds 100 simulations took 2.366436719894409 seconds 100 simulations took 2.313509464263916 seconds 100 simulations took 2.323005437850952 seconds 100 simulations took 2.2891123294830322 seconds 100 simulations took 2.273200035095215 seconds 100 simulations took 2.3108813762664795 seconds 100 simulations took 2.41969633102417 seconds 100 simulations took 2.342724561691284 seconds 100 simulations took 2.344205141067505 seconds 100 simulations took 2.304637908935547 seconds 100 simulations took 2.323946714401245 seconds\""
   ]
  },
  {
   "cell_type": "code",
   "execution_count": 16,
   "metadata": {},
   "outputs": [
    {
     "name": "stdout",
     "output_type": "stream",
     "text": [
      "Average time: 0.026490850150585176\n"
     ]
    }
   ],
   "source": [
    "sim_list = simulation_times.split(\"100 simulations took\")[1:]\n",
    "sim_list = [float(sim.split(\"seconds\")[0].strip()) for sim in sim_list]\n",
    "average_time = sum(sim_list) / len(sim_list)\n",
    "print(f\"Average time: {average_time/100}\")"
   ]
  },
  {
   "cell_type": "code",
   "execution_count": 12,
   "metadata": {},
   "outputs": [
    {
     "ename": "ValueError",
     "evalue": "could not convert string to float: 'took'",
     "output_type": "error",
     "traceback": [
      "\u001b[0;31m---------------------------------------------------------------------------\u001b[0m",
      "\u001b[0;31mValueError\u001b[0m                                Traceback (most recent call last)",
      "Cell \u001b[0;32mIn[12], line 20\u001b[0m\n\u001b[1;32m     15\u001b[0m     average_time_per_simulation \u001b[38;5;241m=\u001b[39m average_time \u001b[38;5;241m/\u001b[39m \u001b[38;5;241m100\u001b[39m\n\u001b[1;32m     17\u001b[0m     \u001b[38;5;28;01mreturn\u001b[39;00m average_time_per_simulation\n\u001b[0;32m---> 20\u001b[0m average_time_per_simulation \u001b[38;5;241m=\u001b[39m \u001b[43mcalculate_average_time\u001b[49m\u001b[43m(\u001b[49m\u001b[43msimulation_times\u001b[49m\u001b[43m)\u001b[49m\n\u001b[1;32m     21\u001b[0m \u001b[38;5;28mprint\u001b[39m(average_time_per_simulation)\n",
      "Cell \u001b[0;32mIn[12], line 9\u001b[0m, in \u001b[0;36mcalculate_average_time\u001b[0;34m(simulation_times)\u001b[0m\n\u001b[1;32m      6\u001b[0m times_str \u001b[38;5;241m=\u001b[39m times_str[:\u001b[38;5;241m-\u001b[39m\u001b[38;5;241m1\u001b[39m]\n\u001b[1;32m      8\u001b[0m \u001b[38;5;66;03m# Extract time values and convert to float\u001b[39;00m\n\u001b[0;32m----> 9\u001b[0m times \u001b[38;5;241m=\u001b[39m \u001b[43m[\u001b[49m\u001b[38;5;28;43mfloat\u001b[39;49m\u001b[43m(\u001b[49m\u001b[43mtime\u001b[49m\u001b[38;5;241;43m.\u001b[39;49m\u001b[43msplit\u001b[49m\u001b[43m(\u001b[49m\u001b[43m)\u001b[49m\u001b[43m[\u001b[49m\u001b[38;5;241;43m-\u001b[39;49m\u001b[38;5;241;43m2\u001b[39;49m\u001b[43m]\u001b[49m\u001b[43m)\u001b[49m\u001b[43m \u001b[49m\u001b[38;5;28;43;01mfor\u001b[39;49;00m\u001b[43m \u001b[49m\u001b[43mtime\u001b[49m\u001b[43m \u001b[49m\u001b[38;5;129;43;01min\u001b[39;49;00m\u001b[43m \u001b[49m\u001b[43mtimes_str\u001b[49m\u001b[43m]\u001b[49m\n\u001b[1;32m     11\u001b[0m \u001b[38;5;66;03m# Calculate average\u001b[39;00m\n\u001b[1;32m     12\u001b[0m average_time \u001b[38;5;241m=\u001b[39m \u001b[38;5;28msum\u001b[39m(times) \u001b[38;5;241m/\u001b[39m \u001b[38;5;28mlen\u001b[39m(times)\n",
      "Cell \u001b[0;32mIn[12], line 9\u001b[0m, in \u001b[0;36m<listcomp>\u001b[0;34m(.0)\u001b[0m\n\u001b[1;32m      6\u001b[0m times_str \u001b[38;5;241m=\u001b[39m times_str[:\u001b[38;5;241m-\u001b[39m\u001b[38;5;241m1\u001b[39m]\n\u001b[1;32m      8\u001b[0m \u001b[38;5;66;03m# Extract time values and convert to float\u001b[39;00m\n\u001b[0;32m----> 9\u001b[0m times \u001b[38;5;241m=\u001b[39m [\u001b[38;5;28;43mfloat\u001b[39;49m\u001b[43m(\u001b[49m\u001b[43mtime\u001b[49m\u001b[38;5;241;43m.\u001b[39;49m\u001b[43msplit\u001b[49m\u001b[43m(\u001b[49m\u001b[43m)\u001b[49m\u001b[43m[\u001b[49m\u001b[38;5;241;43m-\u001b[39;49m\u001b[38;5;241;43m2\u001b[39;49m\u001b[43m]\u001b[49m\u001b[43m)\u001b[49m \u001b[38;5;28;01mfor\u001b[39;00m time \u001b[38;5;129;01min\u001b[39;00m times_str]\n\u001b[1;32m     11\u001b[0m \u001b[38;5;66;03m# Calculate average\u001b[39;00m\n\u001b[1;32m     12\u001b[0m average_time \u001b[38;5;241m=\u001b[39m \u001b[38;5;28msum\u001b[39m(times) \u001b[38;5;241m/\u001b[39m \u001b[38;5;28mlen\u001b[39m(times)\n",
      "\u001b[0;31mValueError\u001b[0m: could not convert string to float: 'took'"
     ]
    }
   ],
   "source": [
    "def calculate_average_time(simulation_times):\n",
    "    # Split the string into separate times\n",
    "    times_str = simulation_times.split(\"seconds\")\n",
    "\n",
    "    # Remove the last element which is an empty string\n",
    "    times_str = times_str[:-1]\n",
    "\n",
    "    # Extract time values and convert to float\n",
    "    times = [float(time.split()[-2]) for time in times_str]\n",
    "\n",
    "    # Calculate average\n",
    "    average_time = sum(times) / len(times)\n",
    "\n",
    "    # Divide by 100\n",
    "    average_time_per_simulation = average_time / 100\n",
    "\n",
    "    return average_time_per_simulation\n",
    "\n",
    "\n",
    "average_time_per_simulation = calculate_average_time(simulation_times)\n",
    "print(average_time_per_simulation)"
   ]
  },
  {
   "cell_type": "code",
   "execution_count": null,
   "metadata": {},
   "outputs": [],
   "source": []
  }
 ],
 "metadata": {
  "kernelspec": {
   "display_name": "Python 3",
   "language": "python",
   "name": "python3"
  },
  "language_info": {
   "codemirror_mode": {
    "name": "ipython",
    "version": 3
   },
   "file_extension": ".py",
   "mimetype": "text/x-python",
   "name": "python",
   "nbconvert_exporter": "python",
   "pygments_lexer": "ipython3",
   "version": "3.11.9"
  }
 },
 "nbformat": 4,
 "nbformat_minor": 2
}
