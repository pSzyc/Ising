{
 "cells": [
  {
   "cell_type": "code",
   "execution_count": 5,
   "metadata": {},
   "outputs": [],
   "source": [
    "import subprocess\n",
    "import os\n",
    "\n",
    "def convert_svg_files(directory, output_directory):\n",
    "    for filename in os.listdir(directory):\n",
    "        if filename.endswith(\".svg\"):\n",
    "            svg_path = os.path.join(directory, filename)\n",
    "            pdf_path = os.path.join(output_directory, filename.replace(\".svg\", \".pdf\"))\n",
    "            command = ['inkscape', svg_path, '--export-filename', pdf_path]\n",
    "            try:\n",
    "                subprocess.run(command, check=True)\n",
    "                print(f\"Successfully converted {svg_path} to PDF\")\n",
    "            except subprocess.CalledProcessError as e:\n",
    "                print(f\"Error occurred while converting {svg_path} to PDF: {str(e)}\")"
   ]
  },
  {
   "cell_type": "code",
   "execution_count": 6,
   "metadata": {},
   "outputs": [
    {
     "name": "stderr",
     "output_type": "stream",
     "text": [
      "\n",
      "** (org.inkscape.Inkscape:15275): WARNING **: 23:47:12.661: Ignoring unrecognized CSS property: background-color\n",
      "\n",
      "** (org.inkscape.Inkscape:15275): WARNING **: 23:47:12.704: Ignoring unrecognized CSS property: background-color\n",
      "\n",
      "** (org.inkscape.Inkscape:15275): WARNING **: 23:47:12.727: Ignoring unrecognized CSS property: background-color\n"
     ]
    },
    {
     "name": "stdout",
     "output_type": "stream",
     "text": [
      "Successfully converted ../Model/VAE/Final/decoder.svg to PDF\n",
      "Successfully converted ../Model/VAE/Final/encoder.svg to PDF\n",
      "Successfully converted ../Model/VAE/Final/vae_summary.svg to PDF\n",
      "Successfully converted ../Model/VAE/Final/vae.svg to PDF\n",
      "Successfully converted ../Model/VAE/Final/methods_energy.svg to PDF\n",
      "Successfully converted ../Model/VAE/Final/methods_magnetization.svg to PDF\n",
      "Successfully converted ../Model/VAE/Final/vars_tsne.svg to PDF\n",
      "Successfully converted ../Model/VAE/Final/vars_tsne_gm.svg to PDF\n"
     ]
    }
   ],
   "source": [
    "convert_svg_files(\"../Model/VAE/Final\", \"VAE\")"
   ]
  },
  {
   "cell_type": "code",
   "execution_count": null,
   "metadata": {},
   "outputs": [
    {
     "name": "stdout",
     "output_type": "stream",
     "text": [
      "Successfully converted ../Model/GAN/Final/gan.svg to PDF\n",
      "Successfully converted ../Model/GAN/Final/cost_function.svg to PDF\n",
      "Successfully converted ../Model/GAN/Final/final_plot.svg to PDF\n",
      "Successfully converted ../Model/GAN/Final/sampled_rounded.svg to PDF\n",
      "Successfully converted ../Model/GAN/Final/samples_all.svg to PDF\n",
      "Successfully converted ../Model/GAN/Final/final_gan.svg to PDF\n"
     ]
    }
   ],
   "source": [
    "convert_svg_files(\"../Model/GAN/Final\", \"GAN\")"
   ]
  },
  {
   "cell_type": "code",
   "execution_count": null,
   "metadata": {},
   "outputs": [
    {
     "name": "stdout",
     "output_type": "stream",
     "text": [
      "Successfully converted ./plot.svg to PDF\n",
      "Successfully converted ./final_compare.svg to PDF\n"
     ]
    }
   ],
   "source": [
    "convert_svg_files(\".\", \"Ising\")"
   ]
  }
 ],
 "metadata": {
  "kernelspec": {
   "display_name": "Python 3",
   "language": "python",
   "name": "python3"
  },
  "language_info": {
   "codemirror_mode": {
    "name": "ipython",
    "version": 3
   },
   "file_extension": ".py",
   "mimetype": "text/x-python",
   "name": "python",
   "nbconvert_exporter": "python",
   "pygments_lexer": "ipython3",
   "version": "3.12.3"
  }
 },
 "nbformat": 4,
 "nbformat_minor": 2
}
