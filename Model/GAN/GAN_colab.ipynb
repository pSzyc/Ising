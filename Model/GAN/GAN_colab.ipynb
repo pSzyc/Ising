{
  "cells": [
    {
      "cell_type": "markdown",
      "metadata": {
        "id": "nJIIRCwhEYGj"
      },
      "source": [
        "## Ising Model GAN"
      ]
    },
    {
      "cell_type": "code",
      "source": [
        "!wget https://raw.githubusercontent.com/pSzyc/Ising/main/Model/GAN/model.py\n",
        "!wget https://raw.githubusercontent.com/pSzyc/Ising/main/Model/input_pipeline.py"
      ],
      "metadata": {
        "id": "trSZesBRLFA5",
        "colab": {
          "base_uri": "https://localhost:8080/"
        },
        "outputId": "ffae8320-a763-4b06-da19-952983f1ba40"
      },
      "execution_count": 1,
      "outputs": [
        {
          "output_type": "stream",
          "name": "stdout",
          "text": [
            "--2023-11-25 12:28:58--  https://raw.githubusercontent.com/pSzyc/Ising/main/Model/GAN/model.py\n",
            "Resolving raw.githubusercontent.com (raw.githubusercontent.com)... 185.199.108.133, 185.199.109.133, 185.199.110.133, ...\n",
            "Connecting to raw.githubusercontent.com (raw.githubusercontent.com)|185.199.108.133|:443... connected.\n",
            "HTTP request sent, awaiting response... 200 OK\n",
            "Length: 2506 (2.4K) [text/plain]\n",
            "Saving to: ‘model.py.1’\n",
            "\n",
            "\rmodel.py.1            0%[                    ]       0  --.-KB/s               \rmodel.py.1          100%[===================>]   2.45K  --.-KB/s    in 0s      \n",
            "\n",
            "2023-11-25 12:28:58 (52.5 MB/s) - ‘model.py.1’ saved [2506/2506]\n",
            "\n",
            "--2023-11-25 12:28:58--  https://raw.githubusercontent.com/pSzyc/Ising/main/Model/input_pipeline.py\n",
            "Resolving raw.githubusercontent.com (raw.githubusercontent.com)... 185.199.108.133, 185.199.109.133, 185.199.110.133, ...\n",
            "Connecting to raw.githubusercontent.com (raw.githubusercontent.com)|185.199.108.133|:443... connected.\n",
            "HTTP request sent, awaiting response... 200 OK\n",
            "Length: 2226 (2.2K) [text/plain]\n",
            "Saving to: ‘input_pipeline.py.1’\n",
            "\n",
            "input_pipeline.py.1 100%[===================>]   2.17K  --.-KB/s    in 0s      \n",
            "\n",
            "2023-11-25 12:28:58 (34.4 MB/s) - ‘input_pipeline.py.1’ saved [2226/2226]\n",
            "\n"
          ]
        }
      ]
    },
    {
      "cell_type": "code",
      "execution_count": 1,
      "metadata": {
        "id": "ULt_ebFhEYGl",
        "outputId": "8f06c7f7-6b86-4471-e733-dbb806dd212d",
        "colab": {
          "base_uri": "https://localhost:8080/"
        }
      },
      "outputs": [
        {
          "output_type": "stream",
          "name": "stdout",
          "text": [
            "Drive already mounted at /content/drive; to attempt to forcibly remount, call drive.mount(\"/content/drive\", force_remount=True).\n"
          ]
        }
      ],
      "source": [
        "import tensorflow as tf\n",
        "import numpy as np\n",
        "from tqdm import tqdm\n",
        "import matplotlib.pyplot as plt\n",
        "import sys\n",
        "import time\n",
        "from IPython import display\n",
        "from input_pipeline import dataset_colab_pipeline\n",
        "from model import make_discriminator_model, make_generator_model, generator_loss, discriminator_loss\n",
        "import csv\n",
        "from google.colab import drive\n",
        "drive.mount('/content/drive')\n",
        "data_path = \"drive/MyDrive/Licencjat\""
      ]
    },
    {
      "cell_type": "markdown",
      "metadata": {
        "id": "KN2Jr9L7EYGm"
      },
      "source": [
        "## Load data"
      ]
    },
    {
      "cell_type": "code",
      "execution_count": 2,
      "metadata": {
        "id": "qV5ZO7laEYGn",
        "outputId": "65f3f0cb-74db-4797-83f1-6acee05a2e9b",
        "colab": {
          "base_uri": "https://localhost:8080/"
        }
      },
      "outputs": [
        {
          "output_type": "stream",
          "name": "stdout",
          "text": [
            "Getting data from drive/MyDrive/Licencjat/Trainset.npy\n",
            "Got 50000 samples\n",
            "Getting data from drive/MyDrive/Licencjat/Testset.npy\n",
            "Got 10000 samples\n"
          ]
        }
      ],
      "source": [
        "trainset_path = f\"{data_path}/Trainset.npy\"\n",
        "testset_path =  f\"{data_path}/Testset.npy\"\n",
        "batch_size = 120\n",
        "train_set = dataset_colab_pipeline(trainset_path, flatten=False, batch_size=batch_size)\n",
        "test_set = dataset_colab_pipeline(testset_path, flatten=False, batch_size=batch_size)"
      ]
    },
    {
      "cell_type": "markdown",
      "metadata": {
        "id": "E--E6qcuEYGn"
      },
      "source": [
        "## Model"
      ]
    },
    {
      "cell_type": "code",
      "execution_count": 3,
      "metadata": {
        "id": "iXCWdZwREYGn"
      },
      "outputs": [],
      "source": [
        "generator = make_generator_model()\n",
        "discriminator = make_discriminator_model()"
      ]
    },
    {
      "cell_type": "code",
      "execution_count": 4,
      "metadata": {
        "id": "fq11JovvEYGn"
      },
      "outputs": [],
      "source": [
        "generator_optimizer = tf.keras.optimizers.Adam(1e-4)\n",
        "discriminator_optimizer = tf.keras.optimizers.Adam(1e-4)"
      ]
    },
    {
      "cell_type": "markdown",
      "metadata": {
        "id": "K4AzdPLDEYGn"
      },
      "source": [
        "## Setup training"
      ]
    },
    {
      "cell_type": "code",
      "execution_count": 5,
      "metadata": {
        "id": "5-pRYEuuEYGo"
      },
      "outputs": [],
      "source": [
        "noise_dim = 100\n",
        "num_examples_to_generate = 16\n",
        "\n",
        "# We'll re-use this random vector used to seed the generator so\n",
        "# it will be easier to see the improvement over time.\n",
        "random_vector_for_generation = tf.random.normal([num_examples_to_generate,\n",
        "                                                 noise_dim])"
      ]
    },
    {
      "cell_type": "code",
      "execution_count": 6,
      "metadata": {
        "id": "ZVtGI4idEYGo"
      },
      "outputs": [],
      "source": [
        "def train_step(images, gen_loss_log, disc_loss_log):\n",
        "      noise = tf.random.normal([batch_size, noise_dim])\n",
        "\n",
        "      with tf.GradientTape() as gen_tape, tf.GradientTape() as disc_tape:\n",
        "        generated_images = generator(noise, training=True)\n",
        "\n",
        "        real_output = discriminator(images, training=True)\n",
        "        generated_output = discriminator(generated_images, training=True)\n",
        "\n",
        "        gen_loss = generator_loss(generated_output)\n",
        "        gen_loss_log.append(gen_loss)\n",
        "        disc_loss = discriminator_loss(real_output, generated_output)\n",
        "        disc_loss_log.append(disc_loss)\n",
        "\n",
        "      gradients_of_generator = gen_tape.gradient(gen_loss, generator.trainable_variables)\n",
        "      gradients_of_discriminator = disc_tape.gradient(disc_loss, discriminator.trainable_variables)\n",
        "\n",
        "      generator_optimizer.apply_gradients(zip(gradients_of_generator, generator.trainable_variables))\n",
        "      discriminator_optimizer.apply_gradients(zip(gradients_of_discriminator, discriminator.trainable_variables))"
      ]
    },
    {
      "cell_type": "code",
      "execution_count": 7,
      "metadata": {
        "id": "-7ybuluhEYGo"
      },
      "outputs": [],
      "source": [
        "def generate_and_save_images(model, epoch, test_input):\n",
        "  predictions = tf.round(model(test_input, training=False))\n",
        "\n",
        "  fig = plt.figure(figsize=(4,4))\n",
        "\n",
        "  for i in range(predictions.shape[0]):\n",
        "      plt.subplot(4, 4, i+1)\n",
        "      plt.imshow(np.rint(predictions[i, :, :, 0]))\n",
        "      plt.axis('off')\n",
        "\n",
        "  plt.savefig('image_at_epoch_{:04d}.png'.format(epoch))\n",
        "  plt.show()"
      ]
    },
    {
      "cell_type": "code",
      "execution_count": 8,
      "metadata": {
        "id": "U4ulPvxkEYGo"
      },
      "outputs": [],
      "source": [
        "def train(dataset, epochs, gen_loss_log, disc_loss_log):\n",
        "\n",
        "  for epoch in range(epochs):\n",
        "    start = time.time()\n",
        "\n",
        "    for images in tqdm(dataset): train_step(images, gen_loss_log, disc_loss_log)\n",
        "\n",
        "    display.clear_output(wait=True)\n",
        "    generate_and_save_images(\n",
        "      generator,\n",
        "      epoch + 1,\n",
        "      random_vector_for_generation\n",
        "    )\n",
        "    print (f\"Time taken for epoch {epoch} is {time.time()- start} sec\")"
      ]
    },
    {
      "cell_type": "markdown",
      "metadata": {
        "id": "FzLVkB79EYGp"
      },
      "source": [
        "## Train the GAN!"
      ]
    },
    {
      "cell_type": "code",
      "execution_count": 9,
      "metadata": {
        "id": "9upxctybEYGp"
      },
      "outputs": [],
      "source": [
        "EPOCHS=30\n",
        "gen_loss_log=[]\n",
        "disc_loss_log=[]"
      ]
    },
    {
      "cell_type": "code",
      "execution_count": null,
      "metadata": {
        "id": "O1vDb-pqEYGp"
      },
      "outputs": [],
      "source": [
        "%%time\n",
        "train(train_set, EPOCHS,gen_loss_log,disc_loss_log)"
      ]
    },
    {
      "cell_type": "markdown",
      "metadata": {
        "id": "VeOtnaSTEYGp"
      },
      "source": [
        "## Plot the loss of the generator and discriminator"
      ]
    },
    {
      "cell_type": "code",
      "execution_count": 12,
      "metadata": {
        "scrolled": true,
        "id": "ngg7pbY-EYGq",
        "outputId": "c041b672-344f-4a2f-b829-d3d5d6796633",
        "colab": {
          "base_uri": "https://localhost:8080/",
          "height": 449
        }
      },
      "outputs": [
        {
          "output_type": "execute_result",
          "data": {
            "text/plain": [
              "<matplotlib.legend.Legend at 0x7ec32444b0d0>"
            ]
          },
          "metadata": {},
          "execution_count": 12
        },
        {
          "output_type": "display_data",
          "data": {
            "text/plain": [
              "<Figure size 640x480 with 1 Axes>"
            ],
            "image/png": "[encoded data removed]"
          },
          "metadata": {}
        }
      ],
      "source": [
        "plt.plot(np.asarray(gen_loss_log))\n",
        "plt.plot(np.asarray(disc_loss_log))\n",
        "plt.legend(['Generator', 'Discriminator'])"
      ]
    },
    {
      "cell_type": "code",
      "execution_count": 13,
      "metadata": {
        "id": "abnLiPeZEYGq"
      },
      "outputs": [],
      "source": [
        "predictions = generator(random_vector_for_generation, training=False)"
      ]
    },
    {
      "cell_type": "code",
      "source": [
        "for data in test_set.take(1):\n",
        "  sns.heatmap(data[0, :, :, 0])"
      ],
      "metadata": {
        "colab": {
          "base_uri": "https://localhost:8080/",
          "height": 198
        },
        "id": "ce5CTI08U9iE",
        "outputId": "9b9ae092-a206-4c5c-e894-608a820f845b"
      },
      "execution_count": 14,
      "outputs": [
        {
          "output_type": "error",
          "ename": "NameError",
          "evalue": "ignored",
          "traceback": [
            "\u001b[0;31m---------------------------------------------------------------------------\u001b[0m",
            "\u001b[0;31mNameError\u001b[0m                                 Traceback (most recent call last)",
            "\u001b[0;32m<ipython-input-14-a57a7fd0b092>\u001b[0m in \u001b[0;36m<cell line: 1>\u001b[0;34m()\u001b[0m\n\u001b[1;32m      1\u001b[0m \u001b[0;32mfor\u001b[0m \u001b[0mdata\u001b[0m \u001b[0;32min\u001b[0m \u001b[0mtest_set\u001b[0m\u001b[0;34m.\u001b[0m\u001b[0mtake\u001b[0m\u001b[0;34m(\u001b[0m\u001b[0;36m1\u001b[0m\u001b[0;34m)\u001b[0m\u001b[0;34m:\u001b[0m\u001b[0;34m\u001b[0m\u001b[0;34m\u001b[0m\u001b[0m\n\u001b[0;32m----> 2\u001b[0;31m   \u001b[0msns\u001b[0m\u001b[0;34m.\u001b[0m\u001b[0mheatmap\u001b[0m\u001b[0;34m(\u001b[0m\u001b[0mdata\u001b[0m\u001b[0;34m[\u001b[0m\u001b[0;36m0\u001b[0m\u001b[0;34m,\u001b[0m \u001b[0;34m:\u001b[0m\u001b[0;34m,\u001b[0m \u001b[0;34m:\u001b[0m\u001b[0;34m,\u001b[0m \u001b[0;36m0\u001b[0m\u001b[0;34m]\u001b[0m\u001b[0;34m)\u001b[0m\u001b[0;34m\u001b[0m\u001b[0;34m\u001b[0m\u001b[0m\n\u001b[0m",
            "\u001b[0;31mNameError\u001b[0m: name 'sns' is not defined"
          ]
        }
      ]
    },
    {
      "cell_type": "code",
      "execution_count": null,
      "metadata": {
        "id": "vBRgrS7zEYGq"
      },
      "outputs": [],
      "source": [
        "import seaborn as sns\n",
        "sns.heatmap(predictions[0, :, :, 0]>0)\n"
      ]
    }
  ],
  "metadata": {
    "kernelspec": {
      "display_name": "Python 3",
      "name": "python3"
    },
    "language_info": {
      "codemirror_mode": {
        "name": "ipython",
        "version": 3
      },
      "file_extension": ".py",
      "mimetype": "text/x-python",
      "name": "python",
      "nbconvert_exporter": "python",
      "pygments_lexer": "ipython3",
      "version": "3.11.6"
    },
    "colab": {
      "provenance": [],
      "gpuType": "T4"
    },
    "accelerator": "GPU"
  },
  "nbformat": 4,
  "nbformat_minor": 0
}