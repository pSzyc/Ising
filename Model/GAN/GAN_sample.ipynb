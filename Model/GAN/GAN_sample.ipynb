{
 "cells": [
  {
   "cell_type": "code",
   "execution_count": 7,
   "metadata": {
    "colab": {
     "base_uri": "https://localhost:8080/"
    },
    "id": "7liWoc9QEgCT",
    "outputId": "db5a98e6-5560-4827-dd49-154b3b8f3d6a"
   },
   "outputs": [],
   "source": [
    "import matplotlib.pyplot as plt\n",
    "import numpy as np\n",
    "import tensorflow as tf\n",
    "import sys\n",
    "sys.path.append('../..')\n",
    "import pandas as pd\n",
    "import seaborn as sns\n",
    "import Model.input_pipeline\n",
    "from Model.results import get_df, get_stats, final_plot"
   ]
  },
  {
   "cell_type": "markdown",
   "metadata": {
    "id": "Cab88ObLEgCX"
   },
   "source": [
    "# Helper functions"
   ]
  },
  {
   "cell_type": "code",
   "execution_count": 8,
   "metadata": {},
   "outputs": [],
   "source": [
    "def plus_encode_data(data):\n",
    "    data = tf.reshape(data, shape=(data.shape[0], -1))\n",
    "    mean_data = tf.reduce_mean(data, axis=1, keepdims=True)\n",
    "    need_change = tf.cast(mean_data < 0.5, data.dtype)\n",
    "    data = data * (1 - 2 * need_change) + need_change\n",
    "    data = tf.reshape(data, shape=(-1, 32, 32, 1))\n",
    "    return data   \n",
    "\n",
    "def sample(num, generator, noise_dim=100):\n",
    "    random_vector_for_generation = tf.random.normal([num, 1, 1, noise_dim])\n",
    "    return generator(random_vector_for_generation)\n",
    "\n",
    "def random_swap(data):\n",
    "    data = tf.reshape(data, shape = (data.shape[0], -1))\n",
    "    swap_mask = 2 * (np.random.random(size = (data.shape[0], 1)) > 0.5) - 1\n",
    "    data = tf.multiply(data, swap_mask)\n",
    "    data = tf.reshape(data, shape = (-1, 32, 32, 1))\n",
    "    return data\n",
    "\n",
    "def load_model_at_T(t, folder):\n",
    "    generator = tf.keras.models.load_model(f\"results/{folder}/{t:.1f}/generator\")\n",
    "    return generator"
   ]
  },
  {
   "cell_type": "markdown",
   "metadata": {},
   "source": [
    "## Models dictionary"
   ]
  },
  {
   "cell_type": "markdown",
   "metadata": {},
   "source": [
    "# Compare with monte carlo"
   ]
  },
  {
   "cell_type": "markdown",
   "metadata": {},
   "source": [
    "# Data"
   ]
  },
  {
   "cell_type": "code",
   "execution_count": null,
   "metadata": {},
   "outputs": [
    {
     "name": "stdout",
     "output_type": "stream",
     "text": [
      "WARNING:tensorflow:No training configuration found in save file, so the model was *not* compiled. Compile it manually.\n"
     ]
    }
   ],
   "source": [
    "data_list = []\n",
    "with tf.device('CPU:0'):\n",
    "    for temp in temps:\n",
    "        # Monte Carlo\n",
    "        trainset_path = f\"../../GetData/Python/Data/Data{temp:.2}.tfrecord\"\n",
    "        batch_size = 100\n",
    "        train_set = Model.input_pipeline.dataset_tfrecord_pipeline(trainset_path, flatten=False, batch_size=batch_size)\n",
    "        model = load_model_at_T(temp, folder)\n",
    "        \n",
    "        sample_list = []\n",
    "        mc_list = []\n",
    "        for batch in train_set:\n",
    "            mc_list.append(batch)\n",
    "            sample_list.append(sample(batch_size, model))\n",
    "        \n",
    "        data_mc = 2 * np.concatenate(mc_list, axis=0) - 1\n",
    "        spin_sample =  2 * np.round(np.concatenate(sample_list, axis=0)) - 1\n",
    "        spin_sample = random_swap(spin_sample)\n",
    "\n",
    "        df_monte_carlo = get_df(data_mc)\n",
    "        mc_stats = get_stats(df_monte_carlo, temp)\n",
    "        mc_stats.extend((temp, \"Monte Carlo\"))\n",
    "    \n",
    "        df_sampled = get_df(spin_sample)\n",
    "        sample_stats = get_stats(df_sampled, temp)\n",
    "        sample_stats.extend((temp, \"GAN\"))\n",
    "    \n",
    "        data_list.append(mc_stats)\n",
    "        data_list.append(sample_stats)"
   ]
  },
  {
   "cell_type": "code",
   "execution_count": null,
   "metadata": {},
   "outputs": [],
   "source": [
    "final_plot(data_list)\n",
    "plt.savefig(\"final_plot.svg\")"
   ]
  },
  {
   "cell_type": "markdown",
   "metadata": {},
   "source": [
    "## Examples"
   ]
  },
  {
   "cell_type": "code",
   "execution_count": null,
   "metadata": {},
   "outputs": [],
   "source": [
    "fig, axes = plt.subplots(nrows=10, ncols=4, figsize=(10, 20))\n",
    "for i, ax_row in enumerate(axes):\n",
    "    ax_row[0].set_ylabel(titles[i], rotation=90, size='large')\n",
    "    predictions = sample(5, models[temps[i]])\n",
    "    for j, ax in enumerate(ax_row):\n",
    "        ax.yaxis.set_ticklabels([])\n",
    "        ax.xaxis.set_ticklabels([])\n",
    "        spins = np.random.binomial(1, predictions[j, :, :])\n",
    "        ax.imshow(spins, vmin=0, vmax=1)\n",
    "\n",
    "plt.tight_layout()\n",
    "plt.savefig(\"example.svg\")"
   ]
  }
 ],
 "metadata": {
  "accelerator": "GPU",
  "colab": {
   "gpuType": "T4",
   "provenance": []
  },
  "kernelspec": {
   "display_name": "Python 3 (ipykernel)",
   "language": "python",
   "name": "python3"
  },
  "language_info": {
   "codemirror_mode": {
    "name": "ipython",
    "version": 3
   },
   "file_extension": ".py",
   "mimetype": "text/x-python",
   "name": "python",
   "nbconvert_exporter": "python",
   "pygments_lexer": "ipython3",
   "version": "3.8.10"
  }
 },
 "nbformat": 4,
 "nbformat_minor": 4
}
