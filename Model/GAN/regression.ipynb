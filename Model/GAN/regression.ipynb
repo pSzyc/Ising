{
 "cells": [
  {
   "cell_type": "markdown",
   "metadata": {},
   "source": [
    "## Ising Model GAN "
   ]
  },
  {
   "cell_type": "code",
   "execution_count": 1,
   "metadata": {},
   "outputs": [],
   "source": [
    "import numpy as np\n",
    "import matplotlib.pyplot as plt\n",
    "import sys\n",
    "sys.path.insert(0, \"..\")\n",
    "import time\n",
    "from pathlib import Path\n",
    "data_path = Path(\"../../GetData/Python/Data\")"
   ]
  },
  {
   "cell_type": "markdown",
   "metadata": {},
   "source": [
    "## Load data"
   ]
  },
  {
   "cell_type": "code",
   "execution_count": 2,
   "metadata": {},
   "outputs": [
    {
     "name": "stderr",
     "output_type": "stream",
     "text": [
      "2024-03-27 16:31:03.157345: I tensorflow/core/platform/cpu_feature_guard.cc:182] This TensorFlow binary is optimized to use available CPU instructions in performance-critical operations.\n",
      "To enable the following instructions: AVX2 FMA, in other operations, rebuild TensorFlow with the appropriate compiler flags.\n"
     ]
    }
   ],
   "source": [
    "import tensorflow as tf\n",
    "from input_pipeline import dataset_tfrecord_pipeline\n",
    "\n",
    "class DataIterator:\n",
    "    def __init__(self, datasets, temps):\n",
    "        self.datasets = datasets\n",
    "        self.temps = temps\n",
    "    def __iter__(self):\n",
    "        self.data_iterators = [iter(data) for data in self.datasets]\n",
    "        return self\n",
    "    \n",
    "    def __next__(self):\n",
    "        data_list = []\n",
    "        temp_list = []\n",
    "        for index, data_iterator in enumerate(self.data_iterators):\n",
    "            data = next(data_iterator)\n",
    "            data_list.append(data)\n",
    "            temp = self.temps[index] * np.ones((data.shape[0], 1))\n",
    "            temp_list.append(temp)\n",
    "        temps = tf.concat(temp_list, axis=0)\n",
    "        data = tf.concat(data_list, axis=0)\n",
    "        return data, temps\n",
    "        \n",
    "def make_dataset(data_dir, temps, batch_size=100, flatten=False):\n",
    "    if isinstance(data_dir, str):\n",
    "        data_dir = Path(data_dir)\n",
    "    \n",
    "    assert batch_size % len(temps) == 0, \"Batch size must be divisible by the number of temperatures\"\n",
    "\n",
    "    trainset = []\n",
    "    testset = []\n",
    "    for temp in temps:\n",
    "        dataset = dataset_tfrecord_pipeline(data_dir / f\"Data{temp:.1f}.tfrecord\", flatten=flatten, batch_size=batch_size // len(temps))\n",
    "        trainset.append(dataset)\n",
    "        dataset = dataset_tfrecord_pipeline(data_dir / f\"TestData{temp:.1f}.tfrecord\", flatten=flatten, batch_size=batch_size // len(temps))\n",
    "        testset.append(dataset)\n",
    "    gen_test = DataIterator(testset, temps)\n",
    "    test_dataset = tf.data.Dataset.from_generator(lambda: gen_test, output_signature = (tf.TensorSpec(shape=(None, 32, 32, 1), dtype=tf.float32), tf.TensorSpec(shape=(None, 1), dtype=tf.float32)))\n",
    "    gen_train = DataIterator(trainset, temps)\n",
    "    train_dataset = tf.data.Dataset.from_generator(lambda: gen_train, output_signature = (tf.TensorSpec(shape=(None, 32, 32, 1), dtype=tf.float32), tf.TensorSpec(shape=(None, 1), dtype=tf.float32)))\n",
    "    return train_dataset, test_dataset"
   ]
  },
  {
   "cell_type": "code",
   "execution_count": 3,
   "metadata": {},
   "outputs": [
    {
     "name": "stderr",
     "output_type": "stream",
     "text": [
      "2024-03-27 16:31:10.930526: I tensorflow/core/common_runtime/gpu/gpu_device.cc:1639] Created device /job:localhost/replica:0/task:0/device:GPU:0 with 11551 MB memory:  -> device: 0, name: NVIDIA TITAN X (Pascal), pci bus id: 0000:04:00.0, compute capability: 6.1\n"
     ]
    }
   ],
   "source": [
    "temps = [t for t in np.arange(2.0, 3.1, 0.1)]\n",
    "batch_size = 110\n",
    "trainset, testset = make_dataset(data_path, temps, batch_size=batch_size, flatten=False)"
   ]
  },
  {
   "cell_type": "code",
   "execution_count": 4,
   "metadata": {},
   "outputs": [
    {
     "name": "stdout",
     "output_type": "stream",
     "text": [
      "(110, 32, 32, 1) (110, 1)\n"
     ]
    }
   ],
   "source": [
    "for data, temps in trainset:\n",
    "    print(data.shape, temps.shape)\n",
    "    break"
   ]
  },
  {
   "cell_type": "code",
   "execution_count": 5,
   "metadata": {},
   "outputs": [],
   "source": [
    "from datetime import datetime\n",
    "from pathlib import Path\n",
    "# Get the current date and time\n",
    "current_datetime = datetime.now()\n",
    "\n",
    "# Format it to include date, hour, and minutes\n",
    "formatted_datetime = current_datetime.strftime(\"%Y-%m-%d_%H-%M\")\n",
    "\n",
    "results = Path(\"results/\" + formatted_datetime)\n",
    "results.mkdir()"
   ]
  },
  {
   "cell_type": "code",
   "execution_count": 6,
   "metadata": {},
   "outputs": [],
   "source": [
    "from tensorflow.keras import regularizers\n",
    "\n",
    "def create_model():\n",
    "    model = tf.keras.models.Sequential([\n",
    "        tf.keras.layers.Conv2D(32, (3, 3), activation='relu', input_shape=(32, 32, 1), kernel_regularizer=regularizers.l2(0.01)),\n",
    "        tf.keras.layers.MaxPooling2D((2, 2)),\n",
    "        tf.keras.layers.Dropout(0.3),\n",
    "        tf.keras.layers.Conv2D(64, (3, 3), activation='relu', kernel_regularizer=regularizers.l2(0.01)),\n",
    "        tf.keras.layers.MaxPooling2D((2, 2)),\n",
    "        tf.keras.layers.Dropout(0.3),\n",
    "        tf.keras.layers.Conv2D(128, (3, 3), activation='relu', kernel_regularizer=regularizers.l2(0.01)),\n",
    "        tf.keras.layers.Flatten(),\n",
    "        tf.keras.layers.Dense(64, activation='relu', kernel_regularizer=regularizers.l2(0.01)),\n",
    "        tf.keras.layers.Dense(1)\n",
    "    ])\n",
    "    return model"
   ]
  },
  {
   "cell_type": "code",
   "execution_count": 7,
   "metadata": {},
   "outputs": [
    {
     "name": "stdout",
     "output_type": "stream",
     "text": [
      "Model: \"sequential\"\n",
      "_________________________________________________________________\n",
      " Layer (type)                Output Shape              Param #   \n",
      "=================================================================\n",
      " conv2d (Conv2D)             (None, 30, 30, 32)        320       \n",
      "                                                                 \n",
      " max_pooling2d (MaxPooling2  (None, 15, 15, 32)        0         \n",
      " D)                                                              \n",
      "                                                                 \n",
      " dropout (Dropout)           (None, 15, 15, 32)        0         \n",
      "                                                                 \n",
      " conv2d_1 (Conv2D)           (None, 13, 13, 64)        18496     \n",
      "                                                                 \n",
      " max_pooling2d_1 (MaxPoolin  (None, 6, 6, 64)          0         \n",
      " g2D)                                                            \n",
      "                                                                 \n",
      " dropout_1 (Dropout)         (None, 6, 6, 64)          0         \n",
      "                                                                 \n",
      " conv2d_2 (Conv2D)           (None, 4, 4, 128)         73856     \n",
      "                                                                 \n",
      " flatten (Flatten)           (None, 2048)              0         \n",
      "                                                                 \n",
      " dense (Dense)               (None, 64)                131136    \n",
      "                                                                 \n",
      " dense_1 (Dense)             (None, 1)                 65        \n",
      "                                                                 \n",
      "=================================================================\n",
      "Total params: 223873 (874.50 KB)\n",
      "Trainable params: 223873 (874.50 KB)\n",
      "Non-trainable params: 0 (0.00 Byte)\n",
      "_________________________________________________________________\n"
     ]
    }
   ],
   "source": [
    "regression_model = create_model()\n",
    "regression_model.compile(optimizer='adam', loss='mse', metrics=['mae'])\n",
    "regression_model.summary()"
   ]
  },
  {
   "cell_type": "code",
   "execution_count": 8,
   "metadata": {},
   "outputs": [
    {
     "name": "stdout",
     "output_type": "stream",
     "text": [
      "Epoch 1/10\n"
     ]
    },
    {
     "name": "stderr",
     "output_type": "stream",
     "text": [
      "2024-03-27 16:31:14.177290: E tensorflow/core/grappler/optimizers/meta_optimizer.cc:954] layout failed: INVALID_ARGUMENT: Size of values 0 does not match size of permutation 4 @ fanin shape insequential/dropout/dropout/SelectV2-2-TransposeNHWCToNCHW-LayoutOptimizer\n",
      "2024-03-27 16:31:33.024764: I tensorflow/compiler/xla/stream_executor/cuda/cuda_dnn.cc:432] Loaded cuDNN version 8600\n",
      "2024-03-27 16:31:34.750304: I tensorflow/compiler/xla/service/service.cc:168] XLA service 0x2af2fb903160 initialized for platform CUDA (this does not guarantee that XLA will be used). Devices:\n",
      "2024-03-27 16:31:34.750390: I tensorflow/compiler/xla/service/service.cc:176]   StreamExecutor device (0): NVIDIA TITAN X (Pascal), Compute Capability 6.1\n",
      "2024-03-27 16:31:34.958613: I tensorflow/compiler/mlir/tensorflow/utils/dump_mlir_util.cc:255] disabling MLIR crash reproducer, set env var `MLIR_CRASH_REPRODUCER_DIRECTORY` to enable.\n",
      "2024-03-27 16:31:35.766661: I ./tensorflow/compiler/jit/device_compiler.h:186] Compiled cluster using XLA!  This line is logged at most once for the lifetime of the process.\n"
     ]
    },
    {
     "name": "stdout",
     "output_type": "stream",
     "text": [
      "   4999/Unknown - 113s 18ms/step - loss: 0.0978 - mae: 0.1055"
     ]
    },
    {
     "name": "stderr",
     "output_type": "stream",
     "text": [
      "2024-03-27 16:33:06.205415: I tensorflow/core/framework/local_rendezvous.cc:405] Local rendezvous recv item cancelled. Key hash: 12913853938430586633\n",
      "2024-03-27 16:33:06.205480: I tensorflow/core/framework/local_rendezvous.cc:405] Local rendezvous recv item cancelled. Key hash: 16104199138889175154\n",
      "2024-03-27 16:33:06.205739: I tensorflow/core/framework/local_rendezvous.cc:405] Local rendezvous recv item cancelled. Key hash: 8849016116601168032\n",
      "2024-03-27 16:33:06.205823: I tensorflow/core/framework/local_rendezvous.cc:405] Local rendezvous recv item cancelled. Key hash: 1702279791957421076\n",
      "2024-03-27 16:33:13.829436: I tensorflow/core/framework/local_rendezvous.cc:405] Local rendezvous recv item cancelled. Key hash: 11485228513473474509\n",
      "2024-03-27 16:33:13.829578: I tensorflow/core/framework/local_rendezvous.cc:405] Local rendezvous recv item cancelled. Key hash: 5800440188162449564\n",
      "2024-03-27 16:33:13.829945: I tensorflow/core/framework/local_rendezvous.cc:405] Local rendezvous recv item cancelled. Key hash: 9014061057443694604\n"
     ]
    },
    {
     "name": "stdout",
     "output_type": "stream",
     "text": [
      "5000/5000 [==============================] - 124s 20ms/step - loss: 0.0978 - mae: 0.1055 - val_loss: 0.0232 - val_mae: 0.0895\n",
      "Epoch 2/10\n",
      "5000/5000 [==============================] - 359s 44ms/step - loss: 0.0235 - mae: 0.0929 - val_loss: 0.0215 - val_mae: 0.0884\n",
      "Epoch 3/10\n",
      "5000/5000 [==============================] - 359s 44ms/step - loss: 0.0215 - mae: 0.0887 - val_loss: 0.0198 - val_mae: 0.0832\n",
      "Epoch 4/10\n",
      "5000/5000 [==============================] - 359s 44ms/step - loss: 0.0204 - mae: 0.0876 - val_loss: 0.0190 - val_mae: 0.0828\n",
      "Epoch 5/10\n",
      "5000/5000 [==============================] - 359s 44ms/step - loss: 0.0199 - mae: 0.0873 - val_loss: 0.0184 - val_mae: 0.0821\n",
      "Epoch 6/10\n",
      "5000/5000 [==============================] - 299s 44ms/step - loss: 0.0193 - mae: 0.0865 - val_loss: 0.0183 - val_mae: 0.0830\n",
      "Epoch 7/10\n",
      "5000/5000 [==============================] - 239s 32ms/step - loss: 0.0189 - mae: 0.0863 - val_loss: 0.0184 - val_mae: 0.0840\n",
      "Epoch 8/10\n",
      "5000/5000 [==============================] - 299s 32ms/step - loss: 0.0186 - mae: 0.0856 - val_loss: 0.0173 - val_mae: 0.0811\n",
      "Epoch 9/10\n",
      "5000/5000 [==============================] - 359s 44ms/step - loss: 0.0183 - mae: 0.0854 - val_loss: 0.0172 - val_mae: 0.0811\n",
      "Epoch 10/10\n",
      "5000/5000 [==============================] - 359s 44ms/step - loss: 0.0181 - mae: 0.0851 - val_loss: 0.0168 - val_mae: 0.0805\n"
     ]
    },
    {
     "data": {
      "text/plain": [
       "<keras.src.callbacks.History at 0x2af1bfc61250>"
      ]
     },
     "execution_count": 8,
     "metadata": {},
     "output_type": "execute_result"
    }
   ],
   "source": [
    "from tensorflow.keras.callbacks import EarlyStopping\n",
    "\n",
    "early_stop = EarlyStopping(monitor='val_loss', patience=3)\n",
    "\n",
    "regression_model.fit(trainset, epochs=10, validation_data=testset, callbacks=[early_stop])"
   ]
  },
  {
   "cell_type": "code",
   "execution_count": 9,
   "metadata": {},
   "outputs": [
    {
     "name": "stdout",
     "output_type": "stream",
     "text": [
      "INFO:tensorflow:Assets written to: results/regression_model/assets\n"
     ]
    },
    {
     "name": "stderr",
     "output_type": "stream",
     "text": [
      "INFO:tensorflow:Assets written to: results/regression_model/assets\n"
     ]
    }
   ],
   "source": [
    "regression_model.save(\"results/regression_model\")\n"
   ]
  },
  {
   "cell_type": "code",
   "execution_count": 10,
   "metadata": {},
   "outputs": [],
   "source": [
    "loaded_model = tf.keras.models.load_model(\"results/regression_model\")\n"
   ]
  },
  {
   "cell_type": "code",
   "execution_count": null,
   "metadata": {},
   "outputs": [],
   "source": []
  }
 ],
 "metadata": {
  "kernelspec": {
   "display_name": "Python 3 (ipykernel)",
   "language": "python",
   "name": "python3"
  },
  "language_info": {
   "codemirror_mode": {
    "name": "ipython",
    "version": 3
   },
   "file_extension": ".py",
   "mimetype": "text/x-python",
   "name": "python",
   "nbconvert_exporter": "python",
   "pygments_lexer": "ipython3",
   "version": "3.8.10"
  }
 },
 "nbformat": 4,
 "nbformat_minor": 4
}
