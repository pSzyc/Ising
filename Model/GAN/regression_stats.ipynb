{
 "cells": [
  {
   "cell_type": "code",
   "execution_count": 1,
   "metadata": {},
   "outputs": [
    {
     "name": "stderr",
     "output_type": "stream",
     "text": [
      "2024-04-27 08:42:28.666738: I external/local_tsl/tsl/cuda/cudart_stub.cc:31] Could not find cuda drivers on your machine, GPU will not be used.\n",
      "2024-04-27 08:42:28.718941: E external/local_xla/xla/stream_executor/cuda/cuda_dnn.cc:9261] Unable to register cuDNN factory: Attempting to register factory for plugin cuDNN when one has already been registered\n",
      "2024-04-27 08:42:28.718971: E external/local_xla/xla/stream_executor/cuda/cuda_fft.cc:607] Unable to register cuFFT factory: Attempting to register factory for plugin cuFFT when one has already been registered\n",
      "2024-04-27 08:42:28.719918: E external/local_xla/xla/stream_executor/cuda/cuda_blas.cc:1515] Unable to register cuBLAS factory: Attempting to register factory for plugin cuBLAS when one has already been registered\n",
      "2024-04-27 08:42:28.726540: I external/local_tsl/tsl/cuda/cudart_stub.cc:31] Could not find cuda drivers on your machine, GPU will not be used.\n",
      "2024-04-27 08:42:28.726945: I tensorflow/core/platform/cpu_feature_guard.cc:182] This TensorFlow binary is optimized to use available CPU instructions in performance-critical operations.\n",
      "To enable the following instructions: AVX2 FMA, in other operations, rebuild TensorFlow with the appropriate compiler flags.\n",
      "2024-04-27 08:42:30.437067: W tensorflow/compiler/tf2tensorrt/utils/py_utils.cc:38] TF-TRT Warning: Could not find TensorRT\n"
     ]
    }
   ],
   "source": [
    "import numpy as np\n",
    "import matplotlib.pyplot as plt\n",
    "import sys\n",
    "sys.path.append('..')\n",
    "from input_pipeline import dataset_tfrecord_pipeline"
   ]
  },
  {
   "cell_type": "code",
   "execution_count": 3,
   "metadata": {},
   "outputs": [],
   "source": [
    "def fast_energy(images):\n",
    "    n = images.shape[0]\n",
    "    shifts = [\n",
    "        (1, 1),  # Right\n",
    "        (-1, 1),  # Left\n",
    "        (-1, 0),  # Up\n",
    "        (1, 0),  # Down\n",
    "        (-1, 1),  # Up-Right\n",
    "        (1, 1),  # Down-Right\n",
    "        (-1, -1),  # Up-Left\n",
    "        (1, -1),  # Down-Left\n",
    "    ]\n",
    "    neighbor_sum = np.zeros_like(images)\n",
    "    for shift in shifts:\n",
    "        shifted_mat = np.roll(images, shift=shift, axis=(1, 2))\n",
    "        neighbor_sum += shifted_mat\n",
    "    \n",
    "    return - np.sum(np.multiply(neighbor_sum, images)) / n"
   ]
  },
  {
   "cell_type": "code",
   "execution_count": 5,
   "metadata": {},
   "outputs": [
    {
     "name": "stdout",
     "output_type": "stream",
     "text": [
      "Temp: 2.0 Energy: -7.02e+03\n",
      "Temp: 2.1 Energy: -6.61e+03\n",
      "Temp: 2.2 Energy: -6.04e+03\n",
      "Temp: 2.3 Energy: -5.17e+03\n",
      "Temp: 2.4 Energy: -4.34e+03\n",
      "Temp: 2.5 Energy: -3.82e+03\n",
      "Temp: 2.6 Energy: -3.44e+03\n",
      "Temp: 2.7 Energy: -3.14e+03\n",
      "Temp: 2.8 Energy: -2.88e+03\n",
      "Temp: 2.9 Energy: -2.67e+03\n",
      "Temp: 3.0 Energy: -2.48e+03\n"
     ]
    }
   ],
   "source": [
    "energy_temp = []\n",
    "for temp in np.arange(2.0, 3.1, 0.1):\n",
    "    data_path = f\"../../GetData/Python/Data/Data{temp:.2}.tfrecord\"\n",
    "    dataset = dataset_tfrecord_pipeline(data_path, flatten=False, batch_size=50000)\n",
    "    data = next(iter(dataset))\n",
    "    energy = fast_energy(2 * data - 1)\n",
    "    energy_temp.append((energy, temp))\n",
    "    print(f\"Temp: {temp:.2} Energy: {energy:.3}\")"
   ]
  },
  {
   "cell_type": "code",
   "execution_count": 9,
   "metadata": {},
   "outputs": [],
   "source": [
    "np.savetxt(\"energy_temp.csv\", np.array(energy_temp), delimiter=',', header='Energy,Temp', fmt='%.1f', comments='')\n"
   ]
  }
 ],
 "metadata": {
  "kernelspec": {
   "display_name": "Python 3",
   "language": "python",
   "name": "python3"
  },
  "language_info": {
   "codemirror_mode": {
    "name": "ipython",
    "version": 3
   },
   "file_extension": ".py",
   "mimetype": "text/x-python",
   "name": "python",
   "nbconvert_exporter": "python",
   "pygments_lexer": "ipython3",
   "version": "3.11.8"
  }
 },
 "nbformat": 4,
 "nbformat_minor": 2
}
