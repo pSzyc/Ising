{
 "cells": [
  {
   "cell_type": "code",
   "execution_count": 1,
   "metadata": {},
   "outputs": [
    {
     "name": "stderr",
     "output_type": "stream",
     "text": [
      "2024-04-17 08:16:43.731013: I tensorflow/core/platform/cpu_feature_guard.cc:182] This TensorFlow binary is optimized to use available CPU instructions in performance-critical operations.\n",
      "To enable the following instructions: AVX2 AVX512F FMA, in other operations, rebuild TensorFlow with the appropriate compiler flags.\n"
     ]
    }
   ],
   "source": [
    "import matplotlib.pyplot as plt\n",
    "import numpy as np\n",
    "import tensorflow as tf\n",
    "import sys\n",
    "sys.path.append('..')\n",
    "import pandas as pd\n",
    "from model import VAE, plus_encode_data\n",
    "import seaborn as sns\n",
    "from sklearn.mixture import GaussianMixture\n",
    "import joblib\n",
    "import input_pipeline\n",
    "from sklearn.manifold import TSNE"
   ]
  },
  {
   "cell_type": "markdown",
   "metadata": {},
   "source": [
    "# Gaussian mixture fitting"
   ]
  },
  {
   "cell_type": "code",
   "execution_count": 4,
   "metadata": {},
   "outputs": [],
   "source": [
    "def load_model_at_T(t, folder,  latent_dim = 200):\n",
    "    model = VAE(latent_dim)\n",
    "    dummy_input = tf.zeros((1, 32, 32, 1))\n",
    "    model(dummy_input)\n",
    "    model.load_weights(f'{folder}/vae{t:.1f}.h5')\n",
    "    return model"
   ]
  },
  {
   "cell_type": "code",
   "execution_count": 5,
   "metadata": {},
   "outputs": [],
   "source": [
    "temps = np.arange(2.0, 3.0, 0.1)\n",
    "folder = \"Results/16-04-2024\"\n",
    "titles = [f\"Temperature: {t:.1f}\" for t in temps]\n",
    "models = {t: load_model_at_T(t, folder) for t in temps}"
   ]
  },
  {
   "cell_type": "code",
   "execution_count": 7,
   "metadata": {},
   "outputs": [
    {
     "name": "stdout",
     "output_type": "stream",
     "text": [
      "Temperature: 2e+00\n",
      "Temperature: 2e+00\n",
      "Temperature: 2e+00\n",
      "Temperature: 2e+00\n",
      "Temperature: 2e+00\n",
      "Temperature: 3e+00\n",
      "Temperature: 3e+00\n",
      "Temperature: 3e+00\n",
      "Temperature: 3e+00\n",
      "Temperature: 3e+00\n"
     ]
    }
   ],
   "source": [
    "gm_vars = GaussianMixture(n_components=2, random_state=0)\n",
    "gm_means = GaussianMixture(n_components=1, random_state=0)\n",
    "\n",
    "for temp in temps:\n",
    "    model = models[temp]\n",
    "    batch_size = 100\n",
    "    \n",
    "    trainset_path = f\"../../GetData/Python/Data/Data{temp:.1f}.tfrecord\"\n",
    "    train_set = input_pipeline.dataset_tfrecord_pipeline(trainset_path, flatten=False, batch_size=batch_size)\n",
    "\n",
    "    # data mc trainset\n",
    "    data_var = []\n",
    "    data_mean = []\n",
    "    for batch in train_set:\n",
    "        data_mc = batch\n",
    "        data_plus = plus_encode_data(data_mc)\n",
    "        mean, var = model.encode(data_plus)\n",
    "        data_var.append(var)\n",
    "        data_mean.append(mean)\n",
    "    \n",
    "    vars = np.concatenate(data_var, axis=0)\n",
    "    means = np.concatenate(data_mean, axis=0)\n",
    "\n",
    "    gm_vars.fit(vars)\n",
    "    gm_means.fit(means)\n",
    "\n",
    "    # Save the GMM models\n",
    "    joblib.dump(gm_vars, f\"{folder}/{temp:.1f}/gm_vars.pkl\")\n",
    "    joblib.dump(gm_means, f\"{folder}/{temp:.1f}/gm_means.pkl\")\n",
    "    \n",
    "    print(f\"Temperature: {temp:.1f}\")"
   ]
  },
  {
   "cell_type": "markdown",
   "metadata": {},
   "source": [
    "# Tsne"
   ]
  },
  {
   "cell_type": "code",
   "execution_count": 11,
   "metadata": {},
   "outputs": [],
   "source": [
    "temp = 2.3\n",
    "model = load_model_at_T(temp, folder)\n",
    "batch_size = 100\n",
    "\n",
    "trainset_path = f\"../../GetData/Python/Data/Data{temp:.1f}.tfrecord\"\n",
    "train_set = input_pipeline.dataset_tfrecord_pipeline(trainset_path, flatten=False, batch_size=batch_size)\n",
    "\n",
    "# data mc trainset\n",
    "data_var = []\n",
    "data_mean = []\n",
    "for batch in train_set:\n",
    "    data_mc = batch\n",
    "    data_plus = plus_encode_data(data_mc)\n",
    "    mean, var = model.encode(data_plus)\n",
    "    data_var.append(var)\n",
    "    data_mean.append(mean)\n",
    "\n",
    "vars = np.concatenate(data_var, axis=0)\n",
    "means = np.concatenate(data_mean, axis=0)"
   ]
  },
  {
   "cell_type": "code",
   "execution_count": null,
   "metadata": {},
   "outputs": [
    {
     "name": "stdout",
     "output_type": "stream",
     "text": [
      "[t-SNE] Computing 151 nearest neighbors...\n",
      "[t-SNE] Indexed 50000 samples in 0.008s...\n",
      "[t-SNE] Computed neighbors for 50000 samples in 34.188s...\n",
      "[t-SNE] Computed conditional probabilities for sample 1000 / 50000\n",
      "[t-SNE] Computed conditional probabilities for sample 2000 / 50000\n",
      "[t-SNE] Computed conditional probabilities for sample 3000 / 50000\n",
      "[t-SNE] Computed conditional probabilities for sample 4000 / 50000\n",
      "[t-SNE] Computed conditional probabilities for sample 5000 / 50000\n",
      "[t-SNE] Computed conditional probabilities for sample 6000 / 50000\n",
      "[t-SNE] Computed conditional probabilities for sample 7000 / 50000\n",
      "[t-SNE] Computed conditional probabilities for sample 8000 / 50000\n",
      "[t-SNE] Computed conditional probabilities for sample 9000 / 50000\n",
      "[t-SNE] Computed conditional probabilities for sample 10000 / 50000\n",
      "[t-SNE] Computed conditional probabilities for sample 11000 / 50000\n",
      "[t-SNE] Computed conditional probabilities for sample 12000 / 50000\n",
      "[t-SNE] Computed conditional probabilities for sample 13000 / 50000\n",
      "[t-SNE] Computed conditional probabilities for sample 14000 / 50000\n",
      "[t-SNE] Computed conditional probabilities for sample 15000 / 50000\n",
      "[t-SNE] Computed conditional probabilities for sample 16000 / 50000\n",
      "[t-SNE] Computed conditional probabilities for sample 17000 / 50000\n",
      "[t-SNE] Computed conditional probabilities for sample 18000 / 50000\n",
      "[t-SNE] Computed conditional probabilities for sample 19000 / 50000\n",
      "[t-SNE] Computed conditional probabilities for sample 20000 / 50000\n",
      "[t-SNE] Computed conditional probabilities for sample 21000 / 50000\n",
      "[t-SNE] Computed conditional probabilities for sample 22000 / 50000\n",
      "[t-SNE] Computed conditional probabilities for sample 23000 / 50000\n",
      "[t-SNE] Computed conditional probabilities for sample 24000 / 50000\n",
      "[t-SNE] Computed conditional probabilities for sample 25000 / 50000\n",
      "[t-SNE] Computed conditional probabilities for sample 26000 / 50000\n",
      "[t-SNE] Computed conditional probabilities for sample 27000 / 50000\n",
      "[t-SNE] Computed conditional probabilities for sample 28000 / 50000\n",
      "[t-SNE] Computed conditional probabilities for sample 29000 / 50000\n",
      "[t-SNE] Computed conditional probabilities for sample 30000 / 50000\n",
      "[t-SNE] Computed conditional probabilities for sample 31000 / 50000\n",
      "[t-SNE] Computed conditional probabilities for sample 32000 / 50000\n",
      "[t-SNE] Computed conditional probabilities for sample 33000 / 50000\n",
      "[t-SNE] Computed conditional probabilities for sample 34000 / 50000\n",
      "[t-SNE] Computed conditional probabilities for sample 35000 / 50000\n",
      "[t-SNE] Computed conditional probabilities for sample 36000 / 50000\n",
      "[t-SNE] Computed conditional probabilities for sample 37000 / 50000\n",
      "[t-SNE] Computed conditional probabilities for sample 38000 / 50000\n",
      "[t-SNE] Computed conditional probabilities for sample 39000 / 50000\n",
      "[t-SNE] Computed conditional probabilities for sample 40000 / 50000\n",
      "[t-SNE] Computed conditional probabilities for sample 41000 / 50000\n",
      "[t-SNE] Computed conditional probabilities for sample 42000 / 50000\n",
      "[t-SNE] Computed conditional probabilities for sample 43000 / 50000\n",
      "[t-SNE] Computed conditional probabilities for sample 44000 / 50000\n",
      "[t-SNE] Computed conditional probabilities for sample 45000 / 50000\n",
      "[t-SNE] Computed conditional probabilities for sample 46000 / 50000\n",
      "[t-SNE] Computed conditional probabilities for sample 47000 / 50000\n",
      "[t-SNE] Computed conditional probabilities for sample 48000 / 50000\n",
      "[t-SNE] Computed conditional probabilities for sample 49000 / 50000\n",
      "[t-SNE] Computed conditional probabilities for sample 50000 / 50000\n",
      "[t-SNE] Mean sigma: 2.007130\n",
      "[t-SNE] KL divergence after 250 iterations with early exaggeration: 106.002991\n"
     ]
    }
   ],
   "source": [
    "tsne_mean = TSNE(n_components=2, perplexity=50, n_iter=10000, verbose=1, random_state=123)\n",
    "v = tsne_mean.fit_transform(means) \n",
    "\n",
    "df_mean = pd.DataFrame()\n",
    "df_mean[\"x\"] = v[:,0]\n",
    "df_mean[\"y\"] = v[:,1]"
   ]
  },
  {
   "cell_type": "code",
   "execution_count": null,
   "metadata": {},
   "outputs": [],
   "source": [
    "sns.kdeplot(data=df_mean, x='x', y='y', cmap='viridis', fill=True, cbar=True)"
   ]
  },
  {
   "cell_type": "code",
   "execution_count": null,
   "metadata": {},
   "outputs": [],
   "source": [
    "tsne_var = TSNE(n_components=2, perplexity=50, n_iter=10000, verbose=1, random_state=123)\n",
    "v = tsne_var.fit_transform(vars) \n",
    "df_var = pd.DataFrame()\n",
    "df_var[\"x\"] = v[:,0]\n",
    "df_var[\"y\"] = v[:,1]"
   ]
  },
  {
   "cell_type": "code",
   "execution_count": null,
   "metadata": {},
   "outputs": [],
   "source": [
    "sns.kdeplot(data=df_var, x='x', y='y', cmap='viridis', fill=True, cbar=True)"
   ]
  },
  {
   "cell_type": "code",
   "execution_count": null,
   "metadata": {},
   "outputs": [],
   "source": [
    "gm_vars = GaussianMixture(n_components=2, random_state=0)\n",
    "gm_vars.fit(vars)\n",
    "labels = gm_vars.predict(vars)\n",
    "df_var['label'] = labels\n",
    "sns.kdeplot(data=df_var, x='x', y='y', cmap='viridis', fill=True, cbar=True, hue='label')"
   ]
  }
 ],
 "metadata": {
  "kernelspec": {
   "display_name": "Python 3 (ipykernel)",
   "language": "python",
   "name": "python3"
  },
  "language_info": {
   "codemirror_mode": {
    "name": "ipython",
    "version": 3
   },
   "file_extension": ".py",
   "mimetype": "text/x-python",
   "name": "python",
   "nbconvert_exporter": "python",
   "pygments_lexer": "ipython3",
   "version": "3.8.10"
  },
  "vscode": {
   "interpreter": {
    "hash": "3a2be30295172717884411af564ad630433b1e83c9c4d3e12b02d716b3136821"
   }
  }
 },
 "nbformat": 4,
 "nbformat_minor": 4
}
